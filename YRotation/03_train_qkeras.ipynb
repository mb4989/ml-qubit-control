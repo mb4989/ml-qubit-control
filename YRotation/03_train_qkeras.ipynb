{
 "cells": [
  {
   "cell_type": "markdown",
   "id": "374b8e1e",
   "metadata": {},
   "source": [
    "# YRoration (YGate) - QKeras ML Models"
   ]
  },
  {
   "cell_type": "markdown",
   "id": "67e7659a-fe1b-4fdf-8c09-a398e498373b",
   "metadata": {},
   "source": [
    "## Configuration"
   ]
  },
  {
   "cell_type": "markdown",
   "id": "66cdd246-6be6-4503-8ef6-d96f4b377d47",
   "metadata": {},
   "source": [
    "Pulse and fidelity computation are computation intensive (slow)."
   ]
  },
  {
   "cell_type": "code",
   "execution_count": 1,
   "id": "46b80433-2ff7-423e-801d-4a6b4392bcc5",
   "metadata": {},
   "outputs": [],
   "source": [
    "PULSE_ENABLED = False\n",
    "FIDELITY_ENABLED = True"
   ]
  },
  {
   "cell_type": "markdown",
   "id": "854caad4-ed4c-413d-b0bf-e7953da036bb",
   "metadata": {},
   "source": [
    "Parameters are stored in a shared script."
   ]
  },
  {
   "cell_type": "code",
   "execution_count": 2,
   "id": "c9418886-6a3f-4473-ae89-53bab6428eb2",
   "metadata": {},
   "outputs": [],
   "source": [
    "from parameters import *"
   ]
  },
  {
   "cell_type": "markdown",
   "id": "44a638f7-87c1-454d-ae92-89c1622ebaa0",
   "metadata": {},
   "source": [
    "Enable seeding for reproducibility of the training."
   ]
  },
  {
   "cell_type": "raw",
   "id": "c69ca338-d83d-4c85-86c3-2401c5c55e25",
   "metadata": {},
   "source": [
    "seed = 0\n",
    "np.random.seed(seed)\n",
    "tf.random.set_seed(seed)"
   ]
  },
  {
   "cell_type": "markdown",
   "id": "e0d17135-58ce-45e4-9c16-1d1b76f34ea3",
   "metadata": {
    "tags": []
   },
   "source": [
    "## Library"
   ]
  },
  {
   "cell_type": "code",
   "execution_count": 3,
   "id": "fa89948c",
   "metadata": {},
   "outputs": [],
   "source": [
    "import os\n",
    "import numpy as np\n",
    "import pandas as pd\n",
    "\n",
    "import sys\n",
    "sys.path.append('..')\n",
    "\n",
    "from utils.helpers import *\n",
    "\n",
    "# Disable some console warnings\n",
    "os.environ['TF_XLA_FLAGS'] = '--tf_xla_enable_xla_devices'\n",
    "os.environ['TF_CPP_MIN_LOG_LEVEL'] = '3'"
   ]
  },
  {
   "cell_type": "markdown",
   "id": "c6c9e65e-f247-4388-a274-6041e8cdcc27",
   "metadata": {},
   "source": [
    "## Check GPU"
   ]
  },
  {
   "cell_type": "raw",
   "id": "7043bec2-9b36-4d93-a65e-23fb8dbd896f",
   "metadata": {
    "tags": []
   },
   "source": [
    "from tensorflow.python.client import device_lib\n",
    "print(device_lib.list_local_devices())"
   ]
  },
  {
   "cell_type": "markdown",
   "id": "9b4ad03d-ae5d-4bc6-b055-3e8579849c5d",
   "metadata": {},
   "source": [
    "## Dataset"
   ]
  },
  {
   "cell_type": "markdown",
   "id": "f13d0b8c-6699-4caf-b257-abc4f8e49b99",
   "metadata": {},
   "source": [
    "### Load"
   ]
  },
  {
   "cell_type": "code",
   "execution_count": 4,
   "id": "667c238f-0e0f-4e4c-b185-f76d1ca261ea",
   "metadata": {},
   "outputs": [],
   "source": [
    "x_train = np.load('./data/yrotation/{}/x_train.npy'.format(CSV_CONFIG))\n",
    "x_val = np.load('./data/yrotation/{}/x_val.npy'.format(CSV_CONFIG))\n",
    "x_test = np.load('./data/yrotation/{}/x_test.npy'.format(CSV_CONFIG))\n",
    "y_train = np.load('./data/yrotation/{}/y_train.npy'.format(CSV_CONFIG))\n",
    "y_val = np.load('./data/yrotation/{}/y_val.npy'.format(CSV_CONFIG))\n",
    "y_test = np.load('./data/yrotation/{}/y_test.npy'.format(CSV_CONFIG))"
   ]
  },
  {
   "cell_type": "code",
   "execution_count": 5,
   "id": "e1f9884a-1b42-4050-bc8a-96395f65c9d7",
   "metadata": {},
   "outputs": [],
   "source": [
    "N_ANGLES = x_train.shape[1]\n",
    "N_PARAMS = y_train.shape[1]"
   ]
  },
  {
   "cell_type": "code",
   "execution_count": 6,
   "id": "95debf17-6de3-49fc-9064-b01c985c3665",
   "metadata": {},
   "outputs": [
    {
     "name": "stdout",
     "output_type": "stream",
     "text": [
      "---------------------------------------\n",
      "- Pulse parameters (y) # 20\n",
      "- Gate parameters  (x) # 1\n",
      "---------------------------------------\n"
     ]
    }
   ],
   "source": [
    "print('---------------------------------------')\n",
    "print('- Pulse parameters (y) #', N_PARAMS) # ASSUMING 1 BETA VALUE (ANGLE ALONG Y AXIS)\n",
    "print('- Gate parameters  (x) #', N_ANGLES) # ASSUMING 1 BETA VALUE (ANGLES ALONG Y AXIS)\n",
    "print('---------------------------------------')"
   ]
  },
  {
   "cell_type": "markdown",
   "id": "984e03b8-cc45-4b1c-abdc-ff003a852d3a",
   "metadata": {},
   "source": [
    "### Evaluation"
   ]
  },
  {
   "cell_type": "markdown",
   "id": "6e3288af-1cd8-45d2-8ba0-1abf4bedc76c",
   "metadata": {},
   "source": [
    "<span style=\"color:red\">ATTENTION: Measuring fidelity on the entire train, validation, and test sets could be time consuming. Use `limit` parameter in case.</span>"
   ]
  },
  {
   "cell_type": "raw",
   "id": "9e238352-278e-4a72-a5dd-e298a8875e88",
   "metadata": {},
   "source": [
    "%%time\n",
    "if FIDELITY_ENABLED:\n",
    "    # Using some hash to avoid name collision\n",
    "    import random\n",
    "    hash_id = random.getrandbits(32)\n",
    "\n",
    "    ygate_fidelity_train = get_ygate_fidelity(x_train,\n",
    "                                              y_train,\n",
    "                                              limit=1000,\n",
    "                                              config_template=CONFIG_TEMPLATE_JSON,\n",
    "                                              pulse_data_path='/tmp/ygate_{:x}.csv'.format(hash_id),\n",
    "                                              output_objf_path='/tmp/ygate_fidelity_{:x}.csv'.format(hash_id))\n",
    "    ygate_fidelity_val = get_ygate_fidelity(x_val,\n",
    "                                            y_val,\n",
    "                                            limit=1000,\n",
    "                                            config_template=CONFIG_TEMPLATE_JSON,\n",
    "                                            pulse_data_path='/tmp/ygate_{:x}.csv'.format(hash_id),\n",
    "                                            output_objf_path='/tmp/ygate_fidelity_{:x}.csv'.format(hash_id))\n",
    "    ygate_fidelity_test = get_ygate_fidelity(x_test,\n",
    "                                             y_test,\n",
    "                                             limit=1000,\n",
    "                                             config_template=CONFIG_TEMPLATE_JSON,\n",
    "                                             pulse_data_path='/tmp/ygate_{:x}.csv'.format(hash_id),\n",
    "                                             output_objf_path='/tmp/ygate_fidelity_{:x}.csv'.format(hash_id))\n",
    "\n",
    "    print('---------------------------------------')\n",
    "    print('Config:', CONFIG_TEMPLATE_JSON)\n",
    "    print('Fidelity:')\n",
    "    print('- train set:', ygate_fidelity_train)\n",
    "    print('- val set:', ygate_fidelity_test)\n",
    "    print('- test set:', ygate_fidelity_val)\n",
    "    print('---------------------------------------')\n",
    "else:\n",
    "    ygate_fidelity_train = -1\n",
    "    ygate_fidelity_val = -1\n",
    "    ygate_fidelity_test = -1\n",
    "    \n",
    "    print('---------------------------------------')\n",
    "    print('YGate fidelity: DISABLED')\n",
    "    print('---------------------------------------')"
   ]
  },
  {
   "cell_type": "markdown",
   "id": "61ecc581",
   "metadata": {
    "tags": []
   },
   "source": [
    "## MLP"
   ]
  },
  {
   "cell_type": "markdown",
   "id": "6ab76b2d-a336-4c67-b5a9-1b7ed83fbd63",
   "metadata": {
    "tags": []
   },
   "source": [
    "### Load Keras Model"
   ]
  },
  {
   "cell_type": "code",
   "execution_count": 7,
   "id": "594fe7e7-b8f2-4125-af8a-23141389476b",
   "metadata": {},
   "outputs": [],
   "source": [
    "import tensorflow as tf\n",
    "\n",
    "best_model_file = PREFIX + '/best_keras_model.h5'\n",
    "def sine_activation(x):\n",
    "    return tf.math.sin(x)\n",
    "model = tf.keras.models.load_model(best_model_file, custom_objects={'sine_activation': sine_activation})\n",
    "model.compile(\n",
    "    optimizer=tf.optimizers.Adam(learning_rate=0.0001),\n",
    "    loss='mean_squared_error',\n",
    "    metrics=['mean_squared_error'])"
   ]
  },
  {
   "cell_type": "code",
   "execution_count": 8,
   "id": "f552b36b-81b9-4066-8577-e52da260a0cf",
   "metadata": {},
   "outputs": [
    {
     "name": "stdout",
     "output_type": "stream",
     "text": [
      "smallMLP_1x12x8x16x12x8x20\n"
     ]
    }
   ],
   "source": [
    "model_id = MODEL_ID_PREFIX + get_basic_id(model)\n",
    "print(model_id)"
   ]
  },
  {
   "cell_type": "code",
   "execution_count": 9,
   "id": "da0ae567-2590-4b3e-a923-3a83d01a99c8",
   "metadata": {},
   "outputs": [
    {
     "name": "stdout",
     "output_type": "stream",
     "text": [
      "Model: \"sequential\"\n",
      "_________________________________________________________________\n",
      "Layer (type)                 Output Shape              Param #   \n",
      "=================================================================\n",
      "fc0 (Dense)                  (None, 12)                24        \n",
      "_________________________________________________________________\n",
      "sine0 (Activation)           (None, 12)                0         \n",
      "_________________________________________________________________\n",
      "fc1 (Dense)                  (None, 8)                 104       \n",
      "_________________________________________________________________\n",
      "sine1 (Activation)           (None, 8)                 0         \n",
      "_________________________________________________________________\n",
      "fc2 (Dense)                  (None, 16)                144       \n",
      "_________________________________________________________________\n",
      "sine2 (Activation)           (None, 16)                0         \n",
      "_________________________________________________________________\n",
      "fc3 (Dense)                  (None, 12)                204       \n",
      "_________________________________________________________________\n",
      "sine3 (Activation)           (None, 12)                0         \n",
      "_________________________________________________________________\n",
      "fc4 (Dense)                  (None, 8)                 104       \n",
      "_________________________________________________________________\n",
      "sine4 (Activation)           (None, 8)                 0         \n",
      "_________________________________________________________________\n",
      "fc5 (Dense)                  (None, 20)                180       \n",
      "=================================================================\n",
      "Total params: 760\n",
      "Trainable params: 760\n",
      "Non-trainable params: 0\n",
      "_________________________________________________________________\n"
     ]
    }
   ],
   "source": [
    "model.summary()"
   ]
  },
  {
   "cell_type": "code",
   "execution_count": 49,
   "id": "32ff7d16-5709-41d6-b3f7-e6c9a062b35c",
   "metadata": {
    "tags": []
   },
   "outputs": [
    {
     "name": "stdout",
     "output_type": "stream",
     "text": [
      "512/512 [==============================] - 0s 343us/step - loss: 1.6350e-07 - mean_squared_error: 1.6350e-07\n"
     ]
    }
   ],
   "source": [
    "#mse, msle, mape = model.evaluate(x_test, y_test)\n",
    "mse = model.evaluate(x_test, y_test)[0]\n",
    "msle, mape = None, None"
   ]
  },
  {
   "cell_type": "code",
   "execution_count": 50,
   "id": "ba04816d-57f2-49de-835a-d5c326960ca0",
   "metadata": {},
   "outputs": [
    {
     "name": "stdout",
     "output_type": "stream",
     "text": [
      "128/128 [==============================] - 0s 358us/step - loss: 1.9285e-07 - mean_squared_error: 1.9285e-07\n"
     ]
    }
   ],
   "source": [
    "mse = model.evaluate(x_val, y_val)[0]\n",
    "msle, mape = None, None"
   ]
  },
  {
   "cell_type": "markdown",
   "id": "6e02f79c-9228-4391-96c9-8139651cdef4",
   "metadata": {},
   "source": [
    "#### QAT/QKeras\n",
    "\n",
    "##### Create model"
   ]
  },
  {
   "cell_type": "markdown",
   "id": "1e5510da-6f6a-49eb-9039-fb4d32be60fb",
   "metadata": {},
   "source": [
    "A classical multi-layer perceptron: 3 (inputs), 8 hidden layers w/ 128 neurons, and 20 (outputs).\n",
    "\n",
    "<span style=\"background-color:orange\">This may be oversized for the final hardware implementation, but it is a starting point. The bit-precision is likely oversized too. We can use AutoQKeras or manually tune the hyper-parameters.</span>"
   ]
  },
  {
   "cell_type": "code",
   "execution_count": 23,
   "id": "fe4904cd-dfaa-470e-a84b-049b9c277268",
   "metadata": {},
   "outputs": [],
   "source": [
    "import tensorflow as tf\n",
    "import qkeras\n",
    "from qkeras.qlayers import QDense, QActivation\n",
    "from qkeras.quantizers import quantized_bits, quantized_relu\n",
    "from tensorflow.keras.layers import Layer"
   ]
  },
  {
   "cell_type": "markdown",
   "id": "c174f7af-a128-4b2f-8bc8-5eb9832352d1",
   "metadata": {},
   "source": [
    "Remember that `ap_fixed<16, 8, true>` is `quantized_bits(bits=16,integer=7)`."
   ]
  },
  {
   "cell_type": "raw",
   "id": "81cf38f9-8164-4998-a26a-bd8ba717c905",
   "metadata": {},
   "source": [
    "class CustomSincQuantizer(Layer):\n",
    "    def __init__(self, bits, integer, qnoise_factor=1.0, **kwargs):\n",
    "        self.bits = bits\n",
    "        self.integer = integer\n",
    "        self.qnoise_factor = qnoise_factor\n",
    "        super(CustomSincQuantizer, self).__init__(**kwargs)\n",
    "\n",
    "    def build(self, input_shape):\n",
    "        super(CustomSincQuantizer, self).build(input_shape)\n",
    "\n",
    "    def call(self, x):\n",
    "        epsilon = 1e-6\n",
    "        quantized_x = tf.where(tf.abs(x) > epsilon, tf.sin(x) / x, 1.0) * (2 ** (self.bits - self.integer - 1))\n",
    "        noise = tf.random.normal(shape=tf.shape(quantized_x), mean=0.0, stddev=self.qnoise_factor)\n",
    "        x_rounded = tf.round(quantized_x + noise)\n",
    "        \n",
    "        # Straight Through Estimator for backpropagation\n",
    "        x_ste = quantized_x + tf.stop_gradient(x_rounded - quantized_x)\n",
    "        return x_ste\n",
    "\n",
    "    def compute_output_shape(self, input_shape):\n",
    "        return input_shape\n",
    "\n",
    "    def get_config(self):\n",
    "        config = super(CustomSincQuantizer, self).get_config()\n",
    "        config.update({\n",
    "            'bits': self.bits,\n",
    "            'integer': self.integer,\n",
    "            'qnoise_factor': self.qnoise_factor\n",
    "        })\n",
    "        return config\n",
    "\n",
    "    @classmethod\n",
    "    def from_config(cls, config):\n",
    "        return cls(**config)\n",
    "W=16\n",
    "I=6\n",
    "\n",
    "qmodel = tf.keras.models.Sequential()\n",
    "qmodel.add(QDense(16,\n",
    "                  input_shape=(1,),\n",
    "                  kernel_quantizer=quantized_bits(bits=W,integer=I-1,alpha=1,qnoise_factor=1.0),\n",
    "                  bias_quantizer=quantized_bits(bits=W,integer=I-1,alpha=1,qnoise_factor=1.0),\n",
    "                  kernel_initializer='lecun_uniform'))\n",
    "qmodel.add(CustomSincQuantizer(bits=W,integer=I-1,qnoise_factor=1.0))\n",
    "\n",
    "for i, n in enumerate([16, 16, 16, 16, 16, 16]):\n",
    "    qmodel.add(QDense(n,\n",
    "                  kernel_quantizer=quantized_bits(bits=W,integer=I-1,alpha=1,qnoise_factor=1.0),\n",
    "                  bias_quantizer=quantized_bits(bits=W,integer=I-1,alpha=1,qnoise_factor=1.0),\n",
    "                  kernel_initializer='lecun_uniform'))\n",
    "    qmodel.add(CustomSincQuantizer(bits=W,integer=I-1,qnoise_factor=1.0))\n",
    "qmodel.add(QDense(20,\n",
    "                  kernel_quantizer=quantized_bits(bits=W,integer=I-1,alpha=1,qnoise_factor=1.0),\n",
    "                  bias_quantizer=quantized_bits(bits=W,integer=I-1,alpha=1,qnoise_factor=1.0),\n",
    "                  kernel_initializer='lecun_uniform'))"
   ]
  },
  {
   "cell_type": "code",
   "execution_count": 41,
   "id": "7d2af090-9322-4297-9800-faf55c14e0e1",
   "metadata": {},
   "outputs": [],
   "source": [
    "# Build quantized model\n",
    "W=32\n",
    "I=16\n",
    "QN=0\n",
    "A=1\n",
    "\n",
    "qmodel = tf.keras.models.Sequential()\n",
    "#qmodel.add(Input(shape=(1,), name='input1'))\n",
    "qmodel.add(QDense(NEURONS_PER_LAYER[0],\n",
    "                  input_shape=(1,),\n",
    "                  name='fc0',\n",
    "                  kernel_quantizer=quantized_bits(bits=W,integer=I-1,alpha=A,qnoise_factor=QN),\n",
    "                  bias_quantizer=quantized_bits(bits=W,integer=I-1,alpha=A,qnoise_factor=QN),\n",
    "                  kernel_initializer='lecun_uniform'))\n",
    "qmodel.add(QActivation(activation=quantized_relu(bits=W,integer=I-1,qnoise_factor=QN),\n",
    "                       name='relu0'))\n",
    "\n",
    "for i, n in enumerate(NEURONS_PER_LAYER[1:]):\n",
    "    qmodel.add(QDense(n,\n",
    "                  name='fc{}'.format(i+1),\n",
    "                  kernel_quantizer=quantized_bits(bits=W,integer=I-1,alpha=A,qnoise_factor=QN),\n",
    "                  bias_quantizer=quantized_bits(bits=W,integer=I-1,alpha=A,qnoise_factor=QN),\n",
    "                  kernel_initializer='lecun_uniform'))\n",
    "    qmodel.add(QActivation(activation=quantized_relu(bits=W,integer=I-1,qnoise_factor=QN),\n",
    "                       name='relu{}'.format(i+1)))\n",
    "qmodel.add(QDense(N_PARAMS,\n",
    "                  name='fc{}'.format(len(NEURONS_PER_LAYER)),\n",
    "                  kernel_quantizer=quantized_bits(bits=W,integer=I-1,alpha=A,qnoise_factor=QN),\n",
    "                  bias_quantizer=quantized_bits(bits=W,integer=I-1,alpha=A,qnoise_factor=QN),\n",
    "                  kernel_initializer='lecun_uniform'))"
   ]
  },
  {
   "cell_type": "code",
   "execution_count": 42,
   "id": "c2bcab19-a1b2-4f84-8b82-387a2e2b027f",
   "metadata": {},
   "outputs": [
    {
     "name": "stdout",
     "output_type": "stream",
     "text": [
      "smallMLP_1x12x8x16x12x8x20\n"
     ]
    }
   ],
   "source": [
    "model_id = MODEL_ID_PREFIX + get_basic_id(qmodel)\n",
    "print(model_id)"
   ]
  },
  {
   "cell_type": "raw",
   "id": "59401520-5b50-4109-9240-d164052f8f74",
   "metadata": {},
   "source": [
    "import hls4ml\n",
    "hls4ml.utils.plot_model(qmodel, show_shapes=True, show_precision=True, to_file=None)"
   ]
  },
  {
   "cell_type": "code",
   "execution_count": 43,
   "id": "cd674f78-eb01-4890-be69-8cc1310170e5",
   "metadata": {},
   "outputs": [
    {
     "name": "stdout",
     "output_type": "stream",
     "text": [
      "Model: \"sequential_3\"\n",
      "_________________________________________________________________\n",
      "Layer (type)                 Output Shape              Param #   \n",
      "=================================================================\n",
      "fc0 (QDense)                 (None, 12)                24        \n",
      "_________________________________________________________________\n",
      "relu0 (QActivation)          (None, 12)                0         \n",
      "_________________________________________________________________\n",
      "fc1 (QDense)                 (None, 8)                 104       \n",
      "_________________________________________________________________\n",
      "relu1 (QActivation)          (None, 8)                 0         \n",
      "_________________________________________________________________\n",
      "fc2 (QDense)                 (None, 16)                144       \n",
      "_________________________________________________________________\n",
      "relu2 (QActivation)          (None, 16)                0         \n",
      "_________________________________________________________________\n",
      "fc3 (QDense)                 (None, 12)                204       \n",
      "_________________________________________________________________\n",
      "relu3 (QActivation)          (None, 12)                0         \n",
      "_________________________________________________________________\n",
      "fc4 (QDense)                 (None, 8)                 104       \n",
      "_________________________________________________________________\n",
      "relu4 (QActivation)          (None, 8)                 0         \n",
      "_________________________________________________________________\n",
      "fc5 (QDense)                 (None, 20)                180       \n",
      "=================================================================\n",
      "Total params: 760\n",
      "Trainable params: 760\n",
      "Non-trainable params: 0\n",
      "_________________________________________________________________\n"
     ]
    }
   ],
   "source": [
    "qmodel.summary()"
   ]
  },
  {
   "cell_type": "markdown",
   "id": "67c3df21-1132-4f82-b6b7-63feb4f566a7",
   "metadata": {},
   "source": [
    "##### Training"
   ]
  },
  {
   "cell_type": "code",
   "execution_count": 44,
   "id": "49b8c375-cc37-4804-a514-c7d8ac8b95c6",
   "metadata": {},
   "outputs": [],
   "source": [
    "from tensorflow.keras.callbacks import EarlyStopping, ModelCheckpoint\n",
    "from tensorflow.keras.models import load_model"
   ]
  },
  {
   "cell_type": "raw",
   "id": "d6a1fb97-d532-4035-bd62-dddd06e955ee",
   "metadata": {},
   "source": [
    "seed = 0\n",
    "np.random.seed(seed)\n",
    "tf.random.set_seed(seed)"
   ]
  },
  {
   "cell_type": "code",
   "execution_count": 45,
   "id": "4419da1b-5760-4297-a870-bc984194f291",
   "metadata": {},
   "outputs": [],
   "source": [
    "best_model_file = PREFIX + '/best_qkeras_model.h5'\n",
    "last_model_file = PREFIX + '/last_qkeras_model.h5'"
   ]
  },
  {
   "cell_type": "markdown",
   "id": "ad7bf3d5-7616-409d-8a68-d6e5e9d82f67",
   "metadata": {},
   "source": [
    "Enable training (`train_and_save`) to overwrite the model file."
   ]
  },
  {
   "cell_type": "code",
   "execution_count": 46,
   "id": "42384230-acd2-46b6-a9b9-ad18f4d6de63",
   "metadata": {},
   "outputs": [],
   "source": [
    "train_and_save = True"
   ]
  },
  {
   "cell_type": "markdown",
   "id": "ce462226-c6a2-4c50-a837-9162a97f077e",
   "metadata": {},
   "source": [
    "Set weights from the Keras model into the QKeras model"
   ]
  },
  {
   "cell_type": "code",
   "execution_count": 47,
   "id": "c87b3b51-ff40-4d46-a25e-7b32fbf09691",
   "metadata": {},
   "outputs": [],
   "source": [
    "qmodel.set_weights(model.get_weights())\n",
    "qmodel.compile(\n",
    "    optimizer=tf.optimizers.Adam(learning_rate=0.0001),\n",
    "    loss='mean_squared_error',\n",
    "    metrics=['mean_squared_error'])\n",
    "qmodel.save(best_model_file)"
   ]
  },
  {
   "cell_type": "code",
   "execution_count": 56,
   "id": "b9bce7b6-eb0d-47b9-aba6-04b5dc58a11e",
   "metadata": {
    "tags": []
   },
   "outputs": [
    {
     "name": "stdout",
     "output_type": "stream",
     "text": [
      "Layer 0\n",
      "Keras weights:\n",
      "[[ 0.92229646  1.4113047   0.34144127 -1.1159358  -0.52307355  1.4264936\n",
      "   1.5917554   0.7760752  -1.2379053  -0.06260239  1.6291194  -0.62103033]]\n",
      "QKeras weights:\n",
      "[[ 0.92229646  1.4113047   0.34144127 -1.1159358  -0.52307355  1.4264936\n",
      "   1.5917554   0.7760752  -1.2379053  -0.06260239  1.6291194  -0.62103033]]\n",
      "----------------------------------------\n",
      "Layer 0\n",
      "Keras weights:\n",
      "[ 0.00370913  0.01557205 -0.00545642 -0.00074088 -0.00037202  0.00951494\n",
      "  0.00498495  0.0002311  -0.0096365   0.00255276  0.00814393  0.00247453]\n",
      "QKeras weights:\n",
      "[ 0.00370913  0.01557205 -0.00545642 -0.00074088 -0.00037202  0.00951494\n",
      "  0.00498495  0.0002311  -0.0096365   0.00255276  0.00814393  0.00247453]\n",
      "----------------------------------------\n",
      "Layer 2\n",
      "Keras weights:\n",
      "[[-0.41244256  0.07581601 -0.451056    0.28145915 -0.20098367 -0.06725013\n",
      "   0.4688105  -0.24980712]\n",
      " [ 0.2791882   0.03889751 -0.3155419  -0.02344753  0.5636125   0.30340692\n",
      "   0.24396378  0.05806979]\n",
      " [-0.4171369   0.09494062  0.27234912  0.12905593  0.39027664 -0.00297159\n",
      "   0.11456216 -0.43144158]\n",
      " [ 0.2883615  -0.26430953  0.38777587  0.28816965 -0.2401837   0.20347728\n",
      "  -0.22451116 -0.26491112]\n",
      " [-0.07227948 -0.3099753   0.1749597   0.07593095 -0.2301041   0.3074762\n",
      "   0.51852876 -0.49589342]\n",
      " [-0.00337865 -0.00283319  0.35625252  0.464236   -0.36586708 -0.18724489\n",
      "  -0.4690559  -0.10407471]\n",
      " [ 0.07182466  0.06665193 -0.20432761  0.2654367   0.17992684  0.33336285\n",
      "   0.40919697  0.5163672 ]\n",
      " [ 0.3528879  -0.33842498  0.24416165  0.43926203  0.12598166  0.28553694\n",
      "  -0.26674214  0.05187311]\n",
      " [ 0.21991533  0.22746977  0.08723847  0.34477678  0.37160483 -0.3989329\n",
      "  -0.21158114 -0.00574241]\n",
      " [-0.33359367  0.3379054  -0.06793236  0.07166895 -0.30230844  0.2725844\n",
      "  -0.39479715 -0.5202088 ]\n",
      " [-0.1435351   0.00577874 -0.00968173 -0.17051461  0.18210319 -0.4514881\n",
      "  -0.4520338  -0.08177898]\n",
      " [-0.42710245 -0.36983052 -0.3214462   0.33715466  0.15137278  0.15399268\n",
      "   0.06027925 -0.12341908]]\n",
      "QKeras weights:\n",
      "[[-0.41244256  0.07581601 -0.451056    0.28145915 -0.20098367 -0.06725013\n",
      "   0.4688105  -0.24980712]\n",
      " [ 0.2791882   0.03889751 -0.3155419  -0.02344753  0.5636125   0.30340692\n",
      "   0.24396378  0.05806979]\n",
      " [-0.4171369   0.09494062  0.27234912  0.12905593  0.39027664 -0.00297159\n",
      "   0.11456216 -0.43144158]\n",
      " [ 0.2883615  -0.26430953  0.38777587  0.28816965 -0.2401837   0.20347728\n",
      "  -0.22451116 -0.26491112]\n",
      " [-0.07227948 -0.3099753   0.1749597   0.07593095 -0.2301041   0.3074762\n",
      "   0.51852876 -0.49589342]\n",
      " [-0.00337865 -0.00283319  0.35625252  0.464236   -0.36586708 -0.18724489\n",
      "  -0.4690559  -0.10407471]\n",
      " [ 0.07182466  0.06665193 -0.20432761  0.2654367   0.17992684  0.33336285\n",
      "   0.40919697  0.5163672 ]\n",
      " [ 0.3528879  -0.33842498  0.24416165  0.43926203  0.12598166  0.28553694\n",
      "  -0.26674214  0.05187311]\n",
      " [ 0.21991533  0.22746977  0.08723847  0.34477678  0.37160483 -0.3989329\n",
      "  -0.21158114 -0.00574241]\n",
      " [-0.33359367  0.3379054  -0.06793236  0.07166895 -0.30230844  0.2725844\n",
      "  -0.39479715 -0.5202088 ]\n",
      " [-0.1435351   0.00577874 -0.00968173 -0.17051461  0.18210319 -0.4514881\n",
      "  -0.4520338  -0.08177898]\n",
      " [-0.42710245 -0.36983052 -0.3214462   0.33715466  0.15137278  0.15399268\n",
      "   0.06027925 -0.12341908]]\n",
      "----------------------------------------\n",
      "Layer 2\n",
      "Keras weights:\n",
      "[-0.0009647  -0.00583987 -0.00522772  0.00649602 -0.00786892  0.00386544\n",
      "  0.00203865 -0.00187556]\n",
      "QKeras weights:\n",
      "[-0.0009647  -0.00583987 -0.00522772  0.00649602 -0.00786892  0.00386544\n",
      "  0.00203865 -0.00187556]\n",
      "----------------------------------------\n",
      "Layer 4\n",
      "Keras weights:\n",
      "[[-0.34895098 -0.46344572  0.2308058   0.06952135  0.5889263  -0.04863863\n",
      "  -0.49257603 -0.13003996 -0.56086046 -0.2570073  -0.24016576 -0.409506\n",
      "  -0.5289334   0.64303815 -0.01302945 -0.31806257]\n",
      " [ 0.44211045  0.09184835 -0.01796908  0.47494507 -0.1421548  -0.00456793\n",
      "  -0.08305473 -0.15974578  0.4268187  -0.1056608   0.4103953   0.53615683\n",
      "  -0.36273673  0.15436853  0.46280384  0.18458718]\n",
      " [-0.311342   -0.14355555 -0.11992817 -0.6531503   0.3421405  -0.26462108\n",
      "  -0.0186154   0.06507967  0.25176707  0.15491422  0.28530535 -0.4326082\n",
      "  -0.12454732 -0.28338626  0.05711377  0.29951286]\n",
      " [-0.18173812  0.56749725 -0.29790106  0.45271072 -0.45504788 -0.0442661\n",
      "   0.24191959  0.50898606 -0.03239227 -0.5115567  -0.33711022  0.54496145\n",
      "  -0.35945243  0.41321003  0.1160897   0.25808027]\n",
      " [-0.402818   -0.3983298   0.38026124 -0.30003306 -0.07444051 -0.0717046\n",
      "   0.57027715  0.3075546   0.25913638  0.4222023   0.3894461   0.2243947\n",
      "   0.489972   -0.29571626 -0.07766329 -0.36294398]\n",
      " [ 0.30450764 -0.11140329 -0.07260732  0.10982542  0.4735318  -0.41653082\n",
      "  -0.1280047  -0.23686902  0.47890037 -0.508663    0.12095724  0.46047816\n",
      "  -0.0504755   0.2761618   0.32690483  0.43392402]\n",
      " [-0.2700828   0.36409366  0.64154     0.03191344 -0.03197949 -0.41109896\n",
      "  -0.09434927 -0.29442474  0.03496716  0.07215488  0.2625071   0.10942302\n",
      "  -0.28894126  0.26752585  0.1905771  -0.627609  ]\n",
      " [ 0.28421968  0.39126244 -0.19129114 -0.10627612  0.12760034 -0.2613409\n",
      "   0.5063287  -0.21549572 -0.04080092  0.08402818 -0.5605756  -0.25796744\n",
      "  -0.10582825  0.5579965   0.38576528 -0.6251305 ]]\n",
      "QKeras weights:\n",
      "[[-0.34895098 -0.46344572  0.2308058   0.06952135  0.5889263  -0.04863863\n",
      "  -0.49257603 -0.13003996 -0.56086046 -0.2570073  -0.24016576 -0.409506\n",
      "  -0.5289334   0.64303815 -0.01302945 -0.31806257]\n",
      " [ 0.44211045  0.09184835 -0.01796908  0.47494507 -0.1421548  -0.00456793\n",
      "  -0.08305473 -0.15974578  0.4268187  -0.1056608   0.4103953   0.53615683\n",
      "  -0.36273673  0.15436853  0.46280384  0.18458718]\n",
      " [-0.311342   -0.14355555 -0.11992817 -0.6531503   0.3421405  -0.26462108\n",
      "  -0.0186154   0.06507967  0.25176707  0.15491422  0.28530535 -0.4326082\n",
      "  -0.12454732 -0.28338626  0.05711377  0.29951286]\n",
      " [-0.18173812  0.56749725 -0.29790106  0.45271072 -0.45504788 -0.0442661\n",
      "   0.24191959  0.50898606 -0.03239227 -0.5115567  -0.33711022  0.54496145\n",
      "  -0.35945243  0.41321003  0.1160897   0.25808027]\n",
      " [-0.402818   -0.3983298   0.38026124 -0.30003306 -0.07444051 -0.0717046\n",
      "   0.57027715  0.3075546   0.25913638  0.4222023   0.3894461   0.2243947\n",
      "   0.489972   -0.29571626 -0.07766329 -0.36294398]\n",
      " [ 0.30450764 -0.11140329 -0.07260732  0.10982542  0.4735318  -0.41653082\n",
      "  -0.1280047  -0.23686902  0.47890037 -0.508663    0.12095724  0.46047816\n",
      "  -0.0504755   0.2761618   0.32690483  0.43392402]\n",
      " [-0.2700828   0.36409366  0.64154     0.03191344 -0.03197949 -0.41109896\n",
      "  -0.09434927 -0.29442474  0.03496716  0.07215488  0.2625071   0.10942302\n",
      "  -0.28894126  0.26752585  0.1905771  -0.627609  ]\n",
      " [ 0.28421968  0.39126244 -0.19129114 -0.10627612  0.12760034 -0.2613409\n",
      "   0.5063287  -0.21549572 -0.04080092  0.08402818 -0.5605756  -0.25796744\n",
      "  -0.10582825  0.5579965   0.38576528 -0.6251305 ]]\n",
      "----------------------------------------\n",
      "Layer 4\n",
      "Keras weights:\n",
      "[-0.00063568 -0.00388202 -0.00708266 -0.00440934  0.00615785 -0.00190843\n",
      "  0.00995566 -0.00360489 -0.00658771 -0.01099617  0.01699745 -0.0049136\n",
      "  0.01033875  0.00312807  0.00104139 -0.00682642]\n",
      "QKeras weights:\n",
      "[-0.00063568 -0.00388202 -0.00708266 -0.00440934  0.00615785 -0.00190843\n",
      "  0.00995566 -0.00360489 -0.00658771 -0.01099617  0.01699745 -0.0049136\n",
      "  0.01033875  0.00312807  0.00104139 -0.00682642]\n",
      "----------------------------------------\n",
      "Layer 6\n",
      "Keras weights:\n",
      "[[-0.352605   -0.2144874  -0.37121713 -0.11983974 -0.38878897 -0.3174173\n",
      "   0.30475533 -0.03295321 -0.18251264 -0.2950091   0.3204     -0.157245  ]\n",
      " [-0.27407432 -0.14624682 -0.05543932  0.14591601  0.08927061  0.33820423\n",
      "   0.08142799 -0.27093565  0.12227929  0.07034171  0.20047642 -0.04171019]\n",
      " [-0.35854036 -0.16029017  0.24289341 -0.28795847  0.07089482 -0.26197714\n",
      "   0.32805988  0.09565662 -0.04384604 -0.05949667 -0.35433084 -0.05723441]\n",
      " [ 0.27941874  0.17626378  0.3589075   0.11701796 -0.23583266 -0.08100278\n",
      "   0.08977325 -0.10790236  0.12296595  0.18108726 -0.38575056  0.1467964 ]\n",
      " [-0.14864002 -0.30254185 -0.17313461  0.35495105  0.19843064 -0.3272526\n",
      "   0.34112906 -0.30557784  0.3230195   0.08729362  0.02030851 -0.23512326]\n",
      " [-0.0298702   0.24544969  0.18681222  0.31353334 -0.292745   -0.11517082\n",
      "   0.19317004 -0.24052893 -0.19387007 -0.16148698  0.25366482 -0.12706125]\n",
      " [ 0.24901539 -0.30345926 -0.06326061  0.3014938   0.3172557   0.2907802\n",
      "   0.2615285  -0.2961443  -0.33041537 -0.2534155   0.28651205  0.21467447]\n",
      " [ 0.17079525 -0.38261688  0.13527338  0.26163033 -0.107921    0.09614515\n",
      "   0.13584352 -0.1900986  -0.11281265  0.3766818  -0.00816093  0.07984944]\n",
      " [ 0.3143914  -0.06609768  0.19126193  0.04558694  0.52321833  0.2584509\n",
      "  -0.1336451  -0.3449402   0.26798394 -0.12547612 -0.068749   -0.35820925]\n",
      " [-0.3953806   0.40446267 -0.2258709  -0.01813369 -0.36298403 -0.10764422\n",
      "   0.31937233  0.10355004  0.13357158  0.36072114  0.17233756  0.06854716]\n",
      " [ 0.0128739   0.12066931 -0.31843466  0.45958555 -0.26344937 -0.0491557\n",
      "   0.09841745 -0.15216549 -0.23264493 -0.21041948  0.09814684 -0.26618347]\n",
      " [ 0.21894625  0.374425    0.0460533   0.23160034 -0.2302862  -0.3375897\n",
      "  -0.16423136  0.3645227  -0.03286381 -0.16873123  0.3482585  -0.19306703]\n",
      " [-0.35918555  0.23291002 -0.28068087 -0.02918596 -0.22987825 -0.2707467\n",
      "   0.31767964  0.08339833 -0.44983345 -0.02508496  0.3048576  -0.19969888]\n",
      " [-0.14795704  0.33093393  0.36433944 -0.10736664  0.38952702 -0.26780698\n",
      "  -0.26085076  0.03722897 -0.22715    -0.20265706  0.3994848   0.027947  ]\n",
      " [-0.39616072 -0.12685317 -0.00188596 -0.02577022  0.24288954 -0.32742965\n",
      "  -0.18281384  0.00579608  0.02342811 -0.28039965  0.2650349   0.20229422]\n",
      " [ 0.15523365 -0.4299495   0.23528679  0.44286853 -0.41892996  0.3984052\n",
      "  -0.16782677 -0.30281025  0.13092683 -0.14008704  0.35087314  0.23083064]]\n",
      "QKeras weights:\n",
      "[[-0.352605   -0.2144874  -0.37121713 -0.11983974 -0.38878897 -0.3174173\n",
      "   0.30475533 -0.03295321 -0.18251264 -0.2950091   0.3204     -0.157245  ]\n",
      " [-0.27407432 -0.14624682 -0.05543932  0.14591601  0.08927061  0.33820423\n",
      "   0.08142799 -0.27093565  0.12227929  0.07034171  0.20047642 -0.04171019]\n",
      " [-0.35854036 -0.16029017  0.24289341 -0.28795847  0.07089482 -0.26197714\n",
      "   0.32805988  0.09565662 -0.04384604 -0.05949667 -0.35433084 -0.05723441]\n",
      " [ 0.27941874  0.17626378  0.3589075   0.11701796 -0.23583266 -0.08100278\n",
      "   0.08977325 -0.10790236  0.12296595  0.18108726 -0.38575056  0.1467964 ]\n",
      " [-0.14864002 -0.30254185 -0.17313461  0.35495105  0.19843064 -0.3272526\n",
      "   0.34112906 -0.30557784  0.3230195   0.08729362  0.02030851 -0.23512326]\n",
      " [-0.0298702   0.24544969  0.18681222  0.31353334 -0.292745   -0.11517082\n",
      "   0.19317004 -0.24052893 -0.19387007 -0.16148698  0.25366482 -0.12706125]\n",
      " [ 0.24901539 -0.30345926 -0.06326061  0.3014938   0.3172557   0.2907802\n",
      "   0.2615285  -0.2961443  -0.33041537 -0.2534155   0.28651205  0.21467447]\n",
      " [ 0.17079525 -0.38261688  0.13527338  0.26163033 -0.107921    0.09614515\n",
      "   0.13584352 -0.1900986  -0.11281265  0.3766818  -0.00816093  0.07984944]\n",
      " [ 0.3143914  -0.06609768  0.19126193  0.04558694  0.52321833  0.2584509\n",
      "  -0.1336451  -0.3449402   0.26798394 -0.12547612 -0.068749   -0.35820925]\n",
      " [-0.3953806   0.40446267 -0.2258709  -0.01813369 -0.36298403 -0.10764422\n",
      "   0.31937233  0.10355004  0.13357158  0.36072114  0.17233756  0.06854716]\n",
      " [ 0.0128739   0.12066931 -0.31843466  0.45958555 -0.26344937 -0.0491557\n",
      "   0.09841745 -0.15216549 -0.23264493 -0.21041948  0.09814684 -0.26618347]\n",
      " [ 0.21894625  0.374425    0.0460533   0.23160034 -0.2302862  -0.3375897\n",
      "  -0.16423136  0.3645227  -0.03286381 -0.16873123  0.3482585  -0.19306703]\n",
      " [-0.35918555  0.23291002 -0.28068087 -0.02918596 -0.22987825 -0.2707467\n",
      "   0.31767964  0.08339833 -0.44983345 -0.02508496  0.3048576  -0.19969888]\n",
      " [-0.14795704  0.33093393  0.36433944 -0.10736664  0.38952702 -0.26780698\n",
      "  -0.26085076  0.03722897 -0.22715    -0.20265706  0.3994848   0.027947  ]\n",
      " [-0.39616072 -0.12685317 -0.00188596 -0.02577022  0.24288954 -0.32742965\n",
      "  -0.18281384  0.00579608  0.02342811 -0.28039965  0.2650349   0.20229422]\n",
      " [ 0.15523365 -0.4299495   0.23528679  0.44286853 -0.41892996  0.3984052\n",
      "  -0.16782677 -0.30281025  0.13092683 -0.14008704  0.35087314  0.23083064]]\n",
      "----------------------------------------\n",
      "Layer 6\n",
      "Keras weights:\n",
      "[-0.00567902  0.00451434  0.00304633 -0.00893845  0.00302415  0.00512857\n",
      "  0.00230696 -0.00107091 -0.01341094  0.00649182 -0.00065232  0.00476658]\n",
      "QKeras weights:\n",
      "[-0.00567902  0.00451434  0.00304633 -0.00893845  0.00302415  0.00512857\n",
      "  0.00230696 -0.00107091 -0.01341094  0.00649182 -0.00065232  0.00476658]\n",
      "----------------------------------------\n",
      "Layer 8\n",
      "Keras weights:\n",
      "[[-0.3388897  -0.1268485  -0.03366216 -0.1784254   0.22101003  0.18673086\n",
      "   0.19231963 -0.21328591]\n",
      " [-0.16465512 -0.5172359   0.24719135  0.47302768  0.26343906  0.24295823\n",
      "  -0.27390364 -0.14474401]\n",
      " [ 0.32953572 -0.33538032 -0.3288943  -0.21721396  0.38660234 -0.09775566\n",
      "   0.36135322  0.43621913]\n",
      " [ 0.03942001 -0.24479116 -0.07089242 -0.34702355  0.3820518   0.02432216\n",
      "  -0.09061959  0.40357292]\n",
      " [ 0.21044014  0.36616153 -0.02700157  0.50354326  0.35867968  0.27556112\n",
      "  -0.08071006  0.27440032]\n",
      " [-0.2780893   0.28198478  0.29712102  0.2807674   0.39076665  0.08181372\n",
      "  -0.07290763 -0.17934065]\n",
      " [-0.08712848  0.08021222  0.09964173 -0.0209103  -0.08669448 -0.2428745\n",
      "   0.36555484 -0.01455508]\n",
      " [-0.19865078  0.31632468  0.4728608  -0.491381   -0.4820664  -0.4961103\n",
      "   0.0702122  -0.45097893]\n",
      " [ 0.20440383 -0.13973865 -0.07466023 -0.09876554 -0.00624531 -0.1635697\n",
      "   0.3041716   0.32308203]\n",
      " [ 0.438463   -0.36304328 -0.2731373   0.27248123 -0.01831082 -0.0545289\n",
      "  -0.23243637  0.2555348 ]\n",
      " [ 0.11837948 -0.32479677 -0.31654716 -0.41904616 -0.14322484 -0.38446018\n",
      "   0.06460526  0.30683747]\n",
      " [ 0.24204735  0.08669594  0.22307599 -0.37621444 -0.5037728  -0.03744234\n",
      "   0.40996116 -0.02653857]]\n",
      "QKeras weights:\n",
      "[[-0.3388897  -0.1268485  -0.03366216 -0.1784254   0.22101003  0.18673086\n",
      "   0.19231963 -0.21328591]\n",
      " [-0.16465512 -0.5172359   0.24719135  0.47302768  0.26343906  0.24295823\n",
      "  -0.27390364 -0.14474401]\n",
      " [ 0.32953572 -0.33538032 -0.3288943  -0.21721396  0.38660234 -0.09775566\n",
      "   0.36135322  0.43621913]\n",
      " [ 0.03942001 -0.24479116 -0.07089242 -0.34702355  0.3820518   0.02432216\n",
      "  -0.09061959  0.40357292]\n",
      " [ 0.21044014  0.36616153 -0.02700157  0.50354326  0.35867968  0.27556112\n",
      "  -0.08071006  0.27440032]\n",
      " [-0.2780893   0.28198478  0.29712102  0.2807674   0.39076665  0.08181372\n",
      "  -0.07290763 -0.17934065]\n",
      " [-0.08712848  0.08021222  0.09964173 -0.0209103  -0.08669448 -0.2428745\n",
      "   0.36555484 -0.01455508]\n",
      " [-0.19865078  0.31632468  0.4728608  -0.491381   -0.4820664  -0.4961103\n",
      "   0.0702122  -0.45097893]\n",
      " [ 0.20440383 -0.13973865 -0.07466023 -0.09876554 -0.00624531 -0.1635697\n",
      "   0.3041716   0.32308203]\n",
      " [ 0.438463   -0.36304328 -0.2731373   0.27248123 -0.01831082 -0.0545289\n",
      "  -0.23243637  0.2555348 ]\n",
      " [ 0.11837948 -0.32479677 -0.31654716 -0.41904616 -0.14322484 -0.38446018\n",
      "   0.06460526  0.30683747]\n",
      " [ 0.24204735  0.08669594  0.22307599 -0.37621444 -0.5037728  -0.03744234\n",
      "   0.40996116 -0.02653857]]\n",
      "----------------------------------------\n",
      "Layer 8\n",
      "Keras weights:\n",
      "[ 0.00147494 -0.00148656  0.00021272 -0.00130717 -0.0006076  -0.00289242\n",
      "  0.0015947   0.00238358]\n",
      "QKeras weights:\n",
      "[ 0.00147494 -0.00148656  0.00021272 -0.00130717 -0.0006076  -0.00289242\n",
      "  0.0015947   0.00238358]\n",
      "----------------------------------------\n",
      "Layer 10\n",
      "Keras weights:\n",
      "[[-0.0764042   0.23567662 -0.03773466  0.16864604 -0.4251861   0.20498833\n",
      "  -0.45415187  0.22289541  0.0482958   0.33659014  0.40971622  0.51109177\n",
      "   0.2811277   0.27534992 -0.31640586  0.01342568 -0.05595341  0.42788774\n",
      "  -0.4465711   0.29777378]\n",
      " [ 0.15957686  0.00779585  0.19082138  0.18841246  0.14632267  0.06087425\n",
      "  -0.05636527 -0.12359923  0.125732   -0.07006305 -0.4392767   0.00796494\n",
      "   0.10466648  0.06965844  0.25088218  0.09119418  0.21988341  0.16388106\n",
      "   0.12713374 -0.6080346 ]\n",
      " [-0.0476373   0.3302788   0.00426889 -0.15271212  0.18423924  0.01610382\n",
      "  -0.32420892 -0.04658969 -0.02860614 -0.42461678  0.07788692  0.32633135\n",
      "  -0.4255646  -0.3553496  -0.46866688 -0.29538152  0.04032991  0.53287745\n",
      "   0.3759651   0.07194364]\n",
      " [-0.18463585 -0.15506701 -0.33839947 -0.2704538  -0.06037749 -0.03955982\n",
      "   0.18935113  0.08069565 -0.1882062   0.27976042 -0.45043585 -0.48363084\n",
      "   0.02796353 -0.03064948 -0.12236325 -0.0655487  -0.15382902 -0.44996828\n",
      "  -0.06479748  0.37364966]\n",
      " [-0.1517329  -0.07199737  0.14265479 -0.07206111  0.06912103  0.37222114\n",
      "  -0.21445167 -0.30681056 -0.15246241  0.1557543  -0.45141575  0.07731485\n",
      "   0.02103273 -0.16793995 -0.31175396 -0.44335052  0.2237381   0.13232447\n",
      "  -0.06228214 -0.03526112]\n",
      " [-0.13077046  0.09652933  0.02557365 -0.11363338 -0.36861414 -0.309608\n",
      "   0.15039927  0.29887873 -0.02205561 -0.39716095  0.35121402  0.29574475\n",
      "  -0.15990636  0.13404024 -0.05749185  0.26520428 -0.27200818  0.29147705\n",
      "  -0.423936   -0.6224929 ]\n",
      " [-0.22887531 -0.05409218 -0.32993945 -0.5365946   0.16030313 -0.30592263\n",
      "   0.34713808  0.05586428 -0.25330994 -0.3584938  -0.25495878 -0.34059462\n",
      "  -0.35953584 -0.24125986 -0.11942394 -0.01012073 -0.09969585 -0.15746237\n",
      "   0.42143193  0.24806811]\n",
      " [ 0.37382972  0.32230154 -0.21610442  0.216429    0.28373912 -0.27829045\n",
      "  -0.11993902  0.24047586  0.3139972  -0.14851917 -0.17784655 -0.40939996\n",
      "  -0.3203605  -0.22466289  0.02830643  0.11370233 -0.2850708  -0.19042827\n",
      "   0.399963   -0.01624277]]\n",
      "QKeras weights:\n",
      "[[-0.0764042   0.23567662 -0.03773466  0.16864604 -0.4251861   0.20498833\n",
      "  -0.45415187  0.22289541  0.0482958   0.33659014  0.40971622  0.51109177\n",
      "   0.2811277   0.27534992 -0.31640586  0.01342568 -0.05595341  0.42788774\n",
      "  -0.4465711   0.29777378]\n",
      " [ 0.15957686  0.00779585  0.19082138  0.18841246  0.14632267  0.06087425\n",
      "  -0.05636527 -0.12359923  0.125732   -0.07006305 -0.4392767   0.00796494\n",
      "   0.10466648  0.06965844  0.25088218  0.09119418  0.21988341  0.16388106\n",
      "   0.12713374 -0.6080346 ]\n",
      " [-0.0476373   0.3302788   0.00426889 -0.15271212  0.18423924  0.01610382\n",
      "  -0.32420892 -0.04658969 -0.02860614 -0.42461678  0.07788692  0.32633135\n",
      "  -0.4255646  -0.3553496  -0.46866688 -0.29538152  0.04032991  0.53287745\n",
      "   0.3759651   0.07194364]\n",
      " [-0.18463585 -0.15506701 -0.33839947 -0.2704538  -0.06037749 -0.03955982\n",
      "   0.18935113  0.08069565 -0.1882062   0.27976042 -0.45043585 -0.48363084\n",
      "   0.02796353 -0.03064948 -0.12236325 -0.0655487  -0.15382902 -0.44996828\n",
      "  -0.06479748  0.37364966]\n",
      " [-0.1517329  -0.07199737  0.14265479 -0.07206111  0.06912103  0.37222114\n",
      "  -0.21445167 -0.30681056 -0.15246241  0.1557543  -0.45141575  0.07731485\n",
      "   0.02103273 -0.16793995 -0.31175396 -0.44335052  0.2237381   0.13232447\n",
      "  -0.06228214 -0.03526112]\n",
      " [-0.13077046  0.09652933  0.02557365 -0.11363338 -0.36861414 -0.309608\n",
      "   0.15039927  0.29887873 -0.02205561 -0.39716095  0.35121402  0.29574475\n",
      "  -0.15990636  0.13404024 -0.05749185  0.26520428 -0.27200818  0.29147705\n",
      "  -0.423936   -0.6224929 ]\n",
      " [-0.22887531 -0.05409218 -0.32993945 -0.5365946   0.16030313 -0.30592263\n",
      "   0.34713808  0.05586428 -0.25330994 -0.3584938  -0.25495878 -0.34059462\n",
      "  -0.35953584 -0.24125986 -0.11942394 -0.01012073 -0.09969585 -0.15746237\n",
      "   0.42143193  0.24806811]\n",
      " [ 0.37382972  0.32230154 -0.21610442  0.216429    0.28373912 -0.27829045\n",
      "  -0.11993902  0.24047586  0.3139972  -0.14851917 -0.17784655 -0.40939996\n",
      "  -0.3203605  -0.22466289  0.02830643  0.11370233 -0.2850708  -0.19042827\n",
      "   0.399963   -0.01624277]]\n",
      "----------------------------------------\n",
      "Layer 10\n",
      "Keras weights:\n",
      "[ 2.7543260e-04  6.9528597e-04 -1.9256233e-03 -1.1328004e-03\n",
      "  1.3679226e-03 -1.3847987e-03  4.4790836e-04  7.8872184e-04\n",
      " -3.2478199e-06 -6.8258098e-04  1.0333715e-03 -1.6125973e-03\n",
      " -1.5383292e-03 -1.2400829e-03 -2.7843731e-04  2.8508346e-04\n",
      " -7.7351293e-04 -1.1844874e-03  3.0658913e-03  4.1144742e-03]\n",
      "QKeras weights:\n",
      "[ 2.7543260e-04  6.9528597e-04 -1.9256233e-03 -1.1328004e-03\n",
      "  1.3679226e-03 -1.3847987e-03  4.4790836e-04  7.8872184e-04\n",
      " -3.2478199e-06 -6.8258098e-04  1.0333715e-03 -1.6125973e-03\n",
      " -1.5383292e-03 -1.2400829e-03 -2.7843731e-04  2.8508346e-04\n",
      " -7.7351293e-04 -1.1844874e-03  3.0658913e-03  4.1144742e-03]\n",
      "----------------------------------------\n"
     ]
    }
   ],
   "source": [
    "# Assuming `model` is your Keras model and `qmodel` is your QKeras model\n",
    "for i in range(len(model.layers)):\n",
    "    keras_weights = model.layers[i].get_weights()\n",
    "    qkeras_weights = qmodel.layers[i].get_weights()\n",
    "    for kw, qw in zip(keras_weights, qkeras_weights):\n",
    "        print('Layer', i)\n",
    "        print('Keras weights:')\n",
    "        print(kw)\n",
    "        print('QKeras weights:')\n",
    "        print(qw)\n",
    "        print('----------------------------------------')\n"
   ]
  },
  {
   "cell_type": "markdown",
   "id": "5cbdffc7-ab6c-46e7-9686-3489980d12d6",
   "metadata": {},
   "source": [
    "##### Simply porting model gives really bad models for some reason so fine tune by training again"
   ]
  },
  {
   "cell_type": "markdown",
   "id": "2eb4f732-387e-40c9-bc14-5b6dcbd726ab",
   "metadata": {},
   "source": [
    "We use Adam optimizer, minimize the Mean Squared Error, and early stop."
   ]
  },
  {
   "cell_type": "code",
   "execution_count": 58,
   "id": "d1dd802a-5cad-46ff-a509-c7e26e009fab",
   "metadata": {
    "tags": []
   },
   "outputs": [],
   "source": [
    "\n",
    "history = None\n",
    "if train_and_save:\n",
    "    qmodel.compile(\n",
    "        optimizer=tf.optimizers.Adam(learning_rate=0.0001),\n",
    "        loss='mean_squared_error',\n",
    "        metrics=[\n",
    "            'mean_squared_error'\n",
    "        ])\n",
    "    early_stopping = EarlyStopping(\n",
    "        monitor='val_loss',\n",
    "        mode='min',\n",
    "        patience=5000,\n",
    "        verbose=1)\n",
    "    model_checkpoint = ModelCheckpoint(\n",
    "        filepath=best_model_file,\n",
    "        monitor='val_loss',\n",
    "        mode='min',\n",
    "        save_best_only=True)\n",
    "    history = qmodel.fit(\n",
    "        x_train,\n",
    "        y_train,\n",
    "        epochs=5000,\n",
    "        batch_size=128, # default 32\n",
    "        validation_data=(x_val, y_val),\n",
    "        callbacks=[early_stopping, model_checkpoint],\n",
    "        verbose=0)\n",
    "    qmodel.save(last_model_file)"
   ]
  },
  {
   "cell_type": "markdown",
   "id": "cc4e1965-b5c7-4296-92a2-7f2495dcdd0e",
   "metadata": {},
   "source": [
    "Load the saved best model and use it from now on."
   ]
  },
  {
   "cell_type": "code",
   "execution_count": 59,
   "id": "28a43111-e846-422c-ab99-754fe8fba4b5",
   "metadata": {
    "tags": []
   },
   "outputs": [],
   "source": [
    "co = {}\n",
    "qkeras.utils._add_supported_quantized_objects(co)\n",
    "qmodel = tf.keras.models.load_model(best_model_file, custom_objects=co)"
   ]
  },
  {
   "cell_type": "markdown",
   "id": "47b48622-7057-462e-988f-306a660821ae",
   "metadata": {},
   "source": [
    "##### Evaluation"
   ]
  },
  {
   "cell_type": "markdown",
   "id": "324a3e75-e21d-4519-9140-01b19b7552eb",
   "metadata": {},
   "source": [
    "Although we may plot and print many metrics, we focus only on **Mean Squared Error (MSE).**"
   ]
  },
  {
   "cell_type": "markdown",
   "id": "268b213b-a901-449f-9ec4-1c01e6af8346",
   "metadata": {},
   "source": [
    "Plot training history. (Not needed if no retraining of QKeras model is done)"
   ]
  },
  {
   "cell_type": "raw",
   "id": "67b6b061-7f54-4f70-9b90-5378cc39810a",
   "metadata": {},
   "source": [
    "from utils.metrics import plot_metrics\n",
    "plot_metrics(PREFIX,\n",
    "             framework='QKeras',\n",
    "             save=train_and_save,\n",
    "             show_all=False, # show MSLE and MAPE, in addition to MSE\n",
    "             history=history)"
   ]
  },
  {
   "cell_type": "markdown",
   "id": "7782ed7e-6afa-4695-9331-27d9b0685141",
   "metadata": {},
   "source": [
    "Print metrics."
   ]
  },
  {
   "cell_type": "code",
   "execution_count": 60,
   "id": "2ba9bb67-64fe-42e5-9816-81b16c2b6065",
   "metadata": {},
   "outputs": [
    {
     "name": "stdout",
     "output_type": "stream",
     "text": [
      "512/512 [==============================] - 0s 397us/step - loss: 1.1710e-07 - mean_squared_error: 1.1710e-07\n"
     ]
    }
   ],
   "source": [
    "#qmse, qmsle, qmape = qmodel.evaluate(x_test, y_test)\n",
    "qmse = qmodel.evaluate(x_test, y_test)[0]\n",
    "qmsle, qmape = None, None"
   ]
  },
  {
   "cell_type": "code",
   "execution_count": 61,
   "id": "38eebc4e-d770-4d23-853b-8a60a8c6e3af",
   "metadata": {},
   "outputs": [],
   "source": [
    "y_qkeras = qmodel.predict(x_test)"
   ]
  },
  {
   "cell_type": "code",
   "execution_count": 62,
   "id": "ad058fc3-e428-449e-a81e-c4a023b7e0f6",
   "metadata": {},
   "outputs": [],
   "source": [
    "import random\n",
    "hash_id = random.getrandbits(32)\n",
    "\n",
    "if FIDELITY_ENABLED:\n",
    "    ygate_fidelity_qkeras = get_ygate_fidelity(x_test,\n",
    "                                               y_qkeras,\n",
    "                                               config_template=CONFIG_TEMPLATE_JSON,\n",
    "                                               pulse_data_path='/tmp/ygate_{:x}.csv'.format(hash_id),\n",
    "                                               output_objf_path='/tmp/ygate_fidelity_{:x}.csv'.format(hash_id))\n",
    "else:\n",
    "    ygate_fidelity_qkeras = None"
   ]
  },
  {
   "cell_type": "code",
   "execution_count": 63,
   "id": "584d104a-c771-4bec-943b-9d06dcde15f2",
   "metadata": {},
   "outputs": [
    {
     "data": {
      "text/html": [
       "<div>\n",
       "<style scoped>\n",
       "    .dataframe tbody tr th:only-of-type {\n",
       "        vertical-align: middle;\n",
       "    }\n",
       "\n",
       "    .dataframe tbody tr th {\n",
       "        vertical-align: top;\n",
       "    }\n",
       "\n",
       "    .dataframe thead th {\n",
       "        text-align: right;\n",
       "    }\n",
       "</style>\n",
       "<table border=\"1\" class=\"dataframe\">\n",
       "  <thead>\n",
       "    <tr style=\"text-align: right;\">\n",
       "      <th></th>\n",
       "      <th></th>\n",
       "      <th>MSE</th>\n",
       "      <th>MSLE</th>\n",
       "      <th>MAPE</th>\n",
       "      <th>Fidelity</th>\n",
       "    </tr>\n",
       "  </thead>\n",
       "  <tbody>\n",
       "    <tr>\n",
       "      <th>0</th>\n",
       "      <td>QKeras</td>\n",
       "      <td>0.000000117102</td>\n",
       "      <td>None</td>\n",
       "      <td>None</td>\n",
       "      <td>0.999976231530</td>\n",
       "    </tr>\n",
       "  </tbody>\n",
       "</table>\n",
       "</div>"
      ],
      "text/plain": [
       "                     MSE  MSLE  MAPE       Fidelity\n",
       "0  QKeras 0.000000117102  None  None 0.999976231530"
      ]
     },
     "metadata": {},
     "output_type": "display_data"
    }
   ],
   "source": [
    "with pd.option_context('display.float_format', '{:0.12f}'.format):\n",
    "    data = pd.DataFrame([[\"QKeras\", qmse, qmsle, qmape, ygate_fidelity_qkeras]], columns=[\"\", \"MSE\", \"MSLE\", \"MAPE\", \"Fidelity\"])\n",
    "    display(data)"
   ]
  },
  {
   "cell_type": "markdown",
   "id": "124ed8ab-eedf-478b-aca1-fdb3b09af3e8",
   "metadata": {},
   "source": [
    "Save metrics values to file for future reference."
   ]
  },
  {
   "cell_type": "code",
   "execution_count": 64,
   "id": "1e68aecf-2332-4321-be6a-641f43e0a440",
   "metadata": {},
   "outputs": [],
   "source": [
    "metrics_filename = PREFIX + '/metrics.csv'\n",
    "\n",
    "# You can disable the writing if necessary.\n",
    "write_metrics_csv = True"
   ]
  },
  {
   "cell_type": "code",
   "execution_count": 65,
   "id": "9c7c9367-4f2f-4b85-ac8e-4b803fa9dbb4",
   "metadata": {},
   "outputs": [],
   "source": [
    "from utils.metrics import write_metrics\n",
    "if write_metrics_csv:\n",
    "    write_metrics(metrics_filename, 'QKeras', model_id, qmse, qmsle, qmape, ygate_fidelity_qkeras)"
   ]
  },
  {
   "cell_type": "code",
   "execution_count": 66,
   "id": "6ce9a763-bbe6-4204-b791-ce5f5c1b412f",
   "metadata": {},
   "outputs": [
    {
     "data": {
      "text/html": [
       "<div>\n",
       "<style scoped>\n",
       "    .dataframe tbody tr th:only-of-type {\n",
       "        vertical-align: middle;\n",
       "    }\n",
       "\n",
       "    .dataframe tbody tr th {\n",
       "        vertical-align: top;\n",
       "    }\n",
       "\n",
       "    .dataframe thead th {\n",
       "        text-align: right;\n",
       "    }\n",
       "</style>\n",
       "<table border=\"1\" class=\"dataframe\">\n",
       "  <thead>\n",
       "    <tr style=\"text-align: right;\">\n",
       "      <th></th>\n",
       "      <th>Date</th>\n",
       "      <th>Framework</th>\n",
       "      <th>ID</th>\n",
       "      <th>MSE</th>\n",
       "      <th>MSLE</th>\n",
       "      <th>MAPE</th>\n",
       "      <th>Fidelity</th>\n",
       "    </tr>\n",
       "  </thead>\n",
       "  <tbody>\n",
       "    <tr>\n",
       "      <th>0</th>\n",
       "      <td>04/06/2023 23:32:36</td>\n",
       "      <td>Keras</td>\n",
       "      <td>smallMLP_1x12x8x16x12x8x20</td>\n",
       "      <td>0.000000707116</td>\n",
       "      <td>NaN</td>\n",
       "      <td>NaN</td>\n",
       "      <td>0.990096302650</td>\n",
       "    </tr>\n",
       "    <tr>\n",
       "      <th>1</th>\n",
       "      <td>04/06/2023 23:41:26</td>\n",
       "      <td>Keras</td>\n",
       "      <td>smallMLP_1x16x16x16x16x16x16x16x20</td>\n",
       "      <td>0.000000302866</td>\n",
       "      <td>NaN</td>\n",
       "      <td>NaN</td>\n",
       "      <td>0.996592127711</td>\n",
       "    </tr>\n",
       "    <tr>\n",
       "      <th>2</th>\n",
       "      <td>05/06/2023 00:54:06</td>\n",
       "      <td>Keras</td>\n",
       "      <td>smallMLP_1x16x16x16x16x16x16x16x20</td>\n",
       "      <td>0.000000398108</td>\n",
       "      <td>NaN</td>\n",
       "      <td>NaN</td>\n",
       "      <td>0.995077184167</td>\n",
       "    </tr>\n",
       "    <tr>\n",
       "      <th>3</th>\n",
       "      <td>05/06/2023 01:35:19</td>\n",
       "      <td>Keras</td>\n",
       "      <td>smallMLP_1x16x16x16x16x16x16x16x20</td>\n",
       "      <td>0.000000326932</td>\n",
       "      <td>NaN</td>\n",
       "      <td>NaN</td>\n",
       "      <td>0.995693778354</td>\n",
       "    </tr>\n",
       "    <tr>\n",
       "      <th>4</th>\n",
       "      <td>05/06/2023 17:02:19</td>\n",
       "      <td>Keras</td>\n",
       "      <td>smallMLP_1x16x16x16x16x16x16x16x20</td>\n",
       "      <td>0.000003161936</td>\n",
       "      <td>NaN</td>\n",
       "      <td>NaN</td>\n",
       "      <td>0.978272227910</td>\n",
       "    </tr>\n",
       "    <tr>\n",
       "      <th>5</th>\n",
       "      <td>05/06/2023 17:41:50</td>\n",
       "      <td>Keras</td>\n",
       "      <td>smallMLP_1x16x16x16x16x16x16x16x20</td>\n",
       "      <td>0.000000187962</td>\n",
       "      <td>NaN</td>\n",
       "      <td>NaN</td>\n",
       "      <td>0.999987138670</td>\n",
       "    </tr>\n",
       "    <tr>\n",
       "      <th>6</th>\n",
       "      <td>05/06/2023 22:18:00</td>\n",
       "      <td>QKeras</td>\n",
       "      <td>smallMLP_1x16x16x16x16x16x16x16x20</td>\n",
       "      <td>0.001994839637</td>\n",
       "      <td>NaN</td>\n",
       "      <td>NaN</td>\n",
       "      <td>0.360618878665</td>\n",
       "    </tr>\n",
       "    <tr>\n",
       "      <th>7</th>\n",
       "      <td>05/06/2023 22:26:55</td>\n",
       "      <td>Keras</td>\n",
       "      <td>smallMLP_1x12x8x16x12x8x20</td>\n",
       "      <td>0.000000192853</td>\n",
       "      <td>NaN</td>\n",
       "      <td>NaN</td>\n",
       "      <td>0.999983054298</td>\n",
       "    </tr>\n",
       "    <tr>\n",
       "      <th>8</th>\n",
       "      <td>05/06/2023 22:29:33</td>\n",
       "      <td>QKeras</td>\n",
       "      <td>smallMLP_1x12x8x16x12x8x20</td>\n",
       "      <td>0.078390441835</td>\n",
       "      <td>NaN</td>\n",
       "      <td>NaN</td>\n",
       "      <td>0.252139220410</td>\n",
       "    </tr>\n",
       "    <tr>\n",
       "      <th>9</th>\n",
       "      <td>05/06/2023 23:26:05</td>\n",
       "      <td>QKeras</td>\n",
       "      <td>smallMLP_1x12x8x16x12x8x20</td>\n",
       "      <td>0.000000138960</td>\n",
       "      <td>NaN</td>\n",
       "      <td>NaN</td>\n",
       "      <td>0.999987939607</td>\n",
       "    </tr>\n",
       "    <tr>\n",
       "      <th>10</th>\n",
       "      <td>05/06/2023 23:34:26</td>\n",
       "      <td>Keras</td>\n",
       "      <td>smallMLP_1x12x8x16x12x8x20</td>\n",
       "      <td>0.000000192853</td>\n",
       "      <td>NaN</td>\n",
       "      <td>NaN</td>\n",
       "      <td>0.999983054298</td>\n",
       "    </tr>\n",
       "    <tr>\n",
       "      <th>11</th>\n",
       "      <td>06/06/2023 00:57:52</td>\n",
       "      <td>QKeras</td>\n",
       "      <td>smallMLP_1x12x8x16x12x8x20</td>\n",
       "      <td>0.000000117102</td>\n",
       "      <td>NaN</td>\n",
       "      <td>NaN</td>\n",
       "      <td>0.999976231530</td>\n",
       "    </tr>\n",
       "  </tbody>\n",
       "</table>\n",
       "</div>"
      ],
      "text/plain": [
       "                   Date Framework                                  ID  \\\n",
       "0   04/06/2023 23:32:36     Keras          smallMLP_1x12x8x16x12x8x20   \n",
       "1   04/06/2023 23:41:26     Keras  smallMLP_1x16x16x16x16x16x16x16x20   \n",
       "2   05/06/2023 00:54:06     Keras  smallMLP_1x16x16x16x16x16x16x16x20   \n",
       "3   05/06/2023 01:35:19     Keras  smallMLP_1x16x16x16x16x16x16x16x20   \n",
       "4   05/06/2023 17:02:19     Keras  smallMLP_1x16x16x16x16x16x16x16x20   \n",
       "5   05/06/2023 17:41:50     Keras  smallMLP_1x16x16x16x16x16x16x16x20   \n",
       "6   05/06/2023 22:18:00    QKeras  smallMLP_1x16x16x16x16x16x16x16x20   \n",
       "7   05/06/2023 22:26:55     Keras          smallMLP_1x12x8x16x12x8x20   \n",
       "8   05/06/2023 22:29:33    QKeras          smallMLP_1x12x8x16x12x8x20   \n",
       "9   05/06/2023 23:26:05    QKeras          smallMLP_1x12x8x16x12x8x20   \n",
       "10  05/06/2023 23:34:26     Keras          smallMLP_1x12x8x16x12x8x20   \n",
       "11  06/06/2023 00:57:52    QKeras          smallMLP_1x12x8x16x12x8x20   \n",
       "\n",
       "              MSE  MSLE  MAPE       Fidelity  \n",
       "0  0.000000707116   NaN   NaN 0.990096302650  \n",
       "1  0.000000302866   NaN   NaN 0.996592127711  \n",
       "2  0.000000398108   NaN   NaN 0.995077184167  \n",
       "3  0.000000326932   NaN   NaN 0.995693778354  \n",
       "4  0.000003161936   NaN   NaN 0.978272227910  \n",
       "5  0.000000187962   NaN   NaN 0.999987138670  \n",
       "6  0.001994839637   NaN   NaN 0.360618878665  \n",
       "7  0.000000192853   NaN   NaN 0.999983054298  \n",
       "8  0.078390441835   NaN   NaN 0.252139220410  \n",
       "9  0.000000138960   NaN   NaN 0.999987939607  \n",
       "10 0.000000192853   NaN   NaN 0.999983054298  \n",
       "11 0.000000117102   NaN   NaN 0.999976231530  "
      ]
     },
     "metadata": {},
     "output_type": "display_data"
    }
   ],
   "source": [
    "from utils.metrics import print_metrics\n",
    "print_metrics(metrics_filename)"
   ]
  }
 ],
 "metadata": {
  "kernelspec": {
   "display_name": "Python 3 (ipykernel)",
   "language": "python",
   "name": "python3"
  },
  "language_info": {
   "codemirror_mode": {
    "name": "ipython",
    "version": 3
   },
   "file_extension": ".py",
   "mimetype": "text/x-python",
   "name": "python",
   "nbconvert_exporter": "python",
   "pygments_lexer": "ipython3",
   "version": "3.10.0"
  }
 },
 "nbformat": 4,
 "nbformat_minor": 5
}
