{
 "cells": [
  {
   "cell_type": "markdown",
   "id": "374b8e1e",
   "metadata": {},
   "source": [
    "# YRoration (YGate) - ML Models"
   ]
  },
  {
   "cell_type": "markdown",
   "id": "67e7659a-fe1b-4fdf-8c09-a398e498373b",
   "metadata": {},
   "source": [
    "## Configuration"
   ]
  },
  {
   "cell_type": "markdown",
   "id": "66cdd246-6be6-4503-8ef6-d96f4b377d47",
   "metadata": {},
   "source": [
    "Pulse and fidelity computation are computation intensive (slow)."
   ]
  },
  {
   "cell_type": "code",
   "execution_count": 1,
   "id": "46b80433-2ff7-423e-801d-4a6b4392bcc5",
   "metadata": {},
   "outputs": [],
   "source": [
    "PULSE_ENABLED = False\n",
    "FIDELITY_ENABLED = True"
   ]
  },
  {
   "cell_type": "markdown",
   "id": "854caad4-ed4c-413d-b0bf-e7953da036bb",
   "metadata": {},
   "source": [
    "Parameters are stored in a shared script."
   ]
  },
  {
   "cell_type": "code",
   "execution_count": 2,
   "id": "c9418886-6a3f-4473-ae89-53bab6428eb2",
   "metadata": {},
   "outputs": [],
   "source": [
    "from parameters import *"
   ]
  },
  {
   "cell_type": "markdown",
   "id": "44a638f7-87c1-454d-ae92-89c1622ebaa0",
   "metadata": {},
   "source": [
    "Enable seeding for reproducibility of the training."
   ]
  },
  {
   "cell_type": "raw",
   "id": "c69ca338-d83d-4c85-86c3-2401c5c55e25",
   "metadata": {},
   "source": [
    "seed = 0\n",
    "np.random.seed(seed)\n",
    "tf.random.set_seed(seed)"
   ]
  },
  {
   "cell_type": "markdown",
   "id": "e0d17135-58ce-45e4-9c16-1d1b76f34ea3",
   "metadata": {
    "tags": []
   },
   "source": [
    "## Library"
   ]
  },
  {
   "cell_type": "code",
   "execution_count": 3,
   "id": "fa89948c",
   "metadata": {},
   "outputs": [
    {
     "name": "stderr",
     "output_type": "stream",
     "text": [
      "2023-11-04 18:00:53.326850: I tensorflow/core/platform/cpu_feature_guard.cc:193] This TensorFlow binary is optimized with oneAPI Deep Neural Network Library (oneDNN) to use the following CPU instructions in performance-critical operations:  SSE4.1 SSE4.2 AVX AVX2 FMA\n",
      "To enable them in other operations, rebuild TensorFlow with the appropriate compiler flags.\n"
     ]
    }
   ],
   "source": [
    "import tensorflow as tf\n",
    "from tensorflow.keras.models import Sequential, load_model\n",
    "from tensorflow.keras.layers import Input, Dense, Activation\n",
    "from tensorflow.keras.callbacks import EarlyStopping, ModelCheckpoint\n",
    "from keras_sequential_ascii import keras2ascii\n",
    "import os\n",
    "import numpy as np\n",
    "import pandas as pd\n",
    "\n",
    "import sys\n",
    "sys.path.append('..')\n",
    "\n",
    "from utils.helpers import *\n",
    "\n",
    "# Disable some console warnings\n",
    "os.environ['TF_XLA_FLAGS'] = '--tf_xla_enable_xla_devices'\n",
    "os.environ['TF_CPP_MIN_LOG_LEVEL'] = '3'"
   ]
  },
  {
   "cell_type": "markdown",
   "id": "c6c9e65e-f247-4388-a274-6041e8cdcc27",
   "metadata": {},
   "source": [
    "## Check GPU"
   ]
  },
  {
   "cell_type": "raw",
   "id": "7043bec2-9b36-4d93-a65e-23fb8dbd896f",
   "metadata": {
    "tags": []
   },
   "source": [
    "from tensorflow.python.client import device_lib\n",
    "print(device_lib.list_local_devices())"
   ]
  },
  {
   "cell_type": "markdown",
   "id": "9b4ad03d-ae5d-4bc6-b055-3e8579849c5d",
   "metadata": {},
   "source": [
    "## Dataset"
   ]
  },
  {
   "cell_type": "markdown",
   "id": "f13d0b8c-6699-4caf-b257-abc4f8e49b99",
   "metadata": {},
   "source": [
    "### Load"
   ]
  },
  {
   "cell_type": "code",
   "execution_count": 4,
   "id": "667c238f-0e0f-4e4c-b185-f76d1ca261ea",
   "metadata": {},
   "outputs": [
    {
     "ename": "FileNotFoundError",
     "evalue": "[Errno 2] No such file or directory: './data/yrotation/D1_10_Pmin_200/x_train.npy'",
     "output_type": "error",
     "traceback": [
      "\u001b[0;31m---------------------------------------------------------------------------\u001b[0m",
      "\u001b[0;31mFileNotFoundError\u001b[0m                         Traceback (most recent call last)",
      "Cell \u001b[0;32mIn[4], line 1\u001b[0m\n\u001b[0;32m----> 1\u001b[0m x_train \u001b[38;5;241m=\u001b[39m \u001b[43mnp\u001b[49m\u001b[38;5;241;43m.\u001b[39;49m\u001b[43mload\u001b[49m\u001b[43m(\u001b[49m\u001b[38;5;124;43m'\u001b[39;49m\u001b[38;5;124;43m./data/yrotation/\u001b[39;49m\u001b[38;5;132;43;01m{}\u001b[39;49;00m\u001b[38;5;124;43m/x_train.npy\u001b[39;49m\u001b[38;5;124;43m'\u001b[39;49m\u001b[38;5;241;43m.\u001b[39;49m\u001b[43mformat\u001b[49m\u001b[43m(\u001b[49m\u001b[43mCSV_CONFIG\u001b[49m\u001b[43m)\u001b[49m\u001b[43m)\u001b[49m\n\u001b[1;32m      2\u001b[0m x_val \u001b[38;5;241m=\u001b[39m np\u001b[38;5;241m.\u001b[39mload(\u001b[38;5;124m'\u001b[39m\u001b[38;5;124m./data/yrotation/\u001b[39m\u001b[38;5;132;01m{}\u001b[39;00m\u001b[38;5;124m/x_val.npy\u001b[39m\u001b[38;5;124m'\u001b[39m\u001b[38;5;241m.\u001b[39mformat(CSV_CONFIG))\n\u001b[1;32m      3\u001b[0m x_test \u001b[38;5;241m=\u001b[39m np\u001b[38;5;241m.\u001b[39mload(\u001b[38;5;124m'\u001b[39m\u001b[38;5;124m./data/yrotation/\u001b[39m\u001b[38;5;132;01m{}\u001b[39;00m\u001b[38;5;124m/x_test.npy\u001b[39m\u001b[38;5;124m'\u001b[39m\u001b[38;5;241m.\u001b[39mformat(CSV_CONFIG))\n",
      "File \u001b[0;32m~/miniconda3/envs/ml4qcontrol-env6/lib/python3.10/site-packages/numpy/lib/npyio.py:427\u001b[0m, in \u001b[0;36mload\u001b[0;34m(file, mmap_mode, allow_pickle, fix_imports, encoding, max_header_size)\u001b[0m\n\u001b[1;32m    425\u001b[0m     own_fid \u001b[38;5;241m=\u001b[39m \u001b[38;5;28;01mFalse\u001b[39;00m\n\u001b[1;32m    426\u001b[0m \u001b[38;5;28;01melse\u001b[39;00m:\n\u001b[0;32m--> 427\u001b[0m     fid \u001b[38;5;241m=\u001b[39m stack\u001b[38;5;241m.\u001b[39menter_context(\u001b[38;5;28;43mopen\u001b[39;49m\u001b[43m(\u001b[49m\u001b[43mos_fspath\u001b[49m\u001b[43m(\u001b[49m\u001b[43mfile\u001b[49m\u001b[43m)\u001b[49m\u001b[43m,\u001b[49m\u001b[43m \u001b[49m\u001b[38;5;124;43m\"\u001b[39;49m\u001b[38;5;124;43mrb\u001b[39;49m\u001b[38;5;124;43m\"\u001b[39;49m\u001b[43m)\u001b[49m)\n\u001b[1;32m    428\u001b[0m     own_fid \u001b[38;5;241m=\u001b[39m \u001b[38;5;28;01mTrue\u001b[39;00m\n\u001b[1;32m    430\u001b[0m \u001b[38;5;66;03m# Code to distinguish from NumPy binary files and pickles.\u001b[39;00m\n",
      "\u001b[0;31mFileNotFoundError\u001b[0m: [Errno 2] No such file or directory: './data/yrotation/D1_10_Pmin_200/x_train.npy'"
     ]
    }
   ],
   "source": [
    "x_train = np.load('./data/yrotation/{}/x_train.npy'.format(CSV_CONFIG))\n",
    "x_val = np.load('./data/yrotation/{}/x_val.npy'.format(CSV_CONFIG))\n",
    "x_test = np.load('./data/yrotation/{}/x_test.npy'.format(CSV_CONFIG))\n",
    "y_train = np.load('./data/yrotation/{}/y_train.npy'.format(CSV_CONFIG))\n",
    "y_val = np.load('./data/yrotation/{}/y_val.npy'.format(CSV_CONFIG))\n",
    "y_test = np.load('./data/yrotation/{}/y_test.npy'.format(CSV_CONFIG))"
   ]
  },
  {
   "cell_type": "code",
   "execution_count": null,
   "id": "e1f9884a-1b42-4050-bc8a-96395f65c9d7",
   "metadata": {},
   "outputs": [],
   "source": [
    "N_ANGLES = x_train.shape[1]\n",
    "N_PARAMS = y_train.shape[1]"
   ]
  },
  {
   "cell_type": "code",
   "execution_count": null,
   "id": "95debf17-6de3-49fc-9064-b01c985c3665",
   "metadata": {},
   "outputs": [],
   "source": [
    "print('---------------------------------------')\n",
    "print('- Pulse parameters (y) #', N_PARAMS) # ASSUMING 1 BETA VALUE (ANGLE ALONG Y AXIS)\n",
    "print('- Gate parameters  (x) #', N_ANGLES) # ASSUMING 1 BETA VALUE (ANGLES ALONG Y AXIS)\n",
    "print('---------------------------------------')"
   ]
  },
  {
   "cell_type": "markdown",
   "id": "984e03b8-cc45-4b1c-abdc-ff003a852d3a",
   "metadata": {},
   "source": [
    "### Evaluation"
   ]
  },
  {
   "cell_type": "markdown",
   "id": "6e3288af-1cd8-45d2-8ba0-1abf4bedc76c",
   "metadata": {},
   "source": [
    "<span style=\"color:red\">ATTENTION: Measuring fidelity on the entire train, validation, and test sets could be time consuming. Use `limit` parameter in case.</span>"
   ]
  },
  {
   "cell_type": "raw",
   "id": "6e80ad1b-5df8-4ddc-b0f5-a59a3a25d0b6",
   "metadata": {},
   "source": [
    "%%time\n",
    "if FIDELITY_ENABLED:\n",
    "    # Using some hash to avoid name collision\n",
    "    import random\n",
    "    hash_id = random.getrandbits(32)\n",
    "\n",
    "    ygate_fidelity_train = get_ygate_fidelity(x_train,\n",
    "                                              y_train,\n",
    "                                              limit=1000,\n",
    "                                              config_template=CONFIG_TEMPLATE_JSON,\n",
    "                                              pulse_data_path='/tmp/ygate_{:x}.csv'.format(hash_id),\n",
    "                                              output_objf_path='/tmp/ygate_fidelity_{:x}.csv'.format(hash_id))\n",
    "    ygate_fidelity_val = get_ygate_fidelity(x_val,\n",
    "                                            y_val,\n",
    "                                            limit=1000,\n",
    "                                            config_template=CONFIG_TEMPLATE_JSON,\n",
    "                                            pulse_data_path='/tmp/ygate_{:x}.csv'.format(hash_id),\n",
    "                                            output_objf_path='/tmp/ygate_fidelity_{:x}.csv'.format(hash_id))\n",
    "    ygate_fidelity_test = get_ygate_fidelity(x_test,\n",
    "                                             y_test,\n",
    "                                             limit=1000,\n",
    "                                             config_template=CONFIG_TEMPLATE_JSON,\n",
    "                                             pulse_data_path='/tmp/ygate_{:x}.csv'.format(hash_id),\n",
    "                                             output_objf_path='/tmp/ygate_fidelity_{:x}.csv'.format(hash_id))\n",
    "\n",
    "    print('---------------------------------------')\n",
    "    print('Config:', CONFIG_TEMPLATE_JSON)\n",
    "    print('Fidelity:')\n",
    "    print('- train set:', ygate_fidelity_train)\n",
    "    print('- val set:', ygate_fidelity_test)\n",
    "    print('- test set:', ygate_fidelity_val)\n",
    "    print('---------------------------------------')\n",
    "else:\n",
    "    ygate_fidelity_train = -1\n",
    "    ygate_fidelity_val = -1\n",
    "    ygate_fidelity_test = -1\n",
    "    \n",
    "    print('---------------------------------------')\n",
    "    print('YGate fidelity: DISABLED')\n",
    "    print('---------------------------------------')"
   ]
  },
  {
   "cell_type": "markdown",
   "id": "61ecc581",
   "metadata": {},
   "source": [
    "## MLP"
   ]
  },
  {
   "cell_type": "markdown",
   "id": "251cf19c",
   "metadata": {},
   "source": [
    "### Create model"
   ]
  },
  {
   "cell_type": "markdown",
   "id": "8bb4f8c5",
   "metadata": {},
   "source": [
    "Classical multi-layer perceptrons: 1 (input), 12 or 20 (outputs), and a certain number of hidden layers.\n",
    "\n",
    "<span style=\"background-color:orange\">These MLPs may be either oversized or undersized for the final hardware implementation and/or fidelity, but it is a starting point. We can use KerasTuner or manually tune the model to less/more layers/neurons.</span>\n",
    "\n",
    "Choose one of the following definitions.\n",
    "\n",
    "<font color='red'>These parameters are now defined in parameters.py</font>"
   ]
  },
  {
   "cell_type": "markdown",
   "id": "c0258d5c",
   "metadata": {},
   "source": [
    "**Large**"
   ]
  },
  {
   "cell_type": "raw",
   "id": "d31d6394-e8ef-4fdb-a1bc-8c8f02f500fa",
   "metadata": {},
   "source": [
    "model_id_prefix = 'largeMLP_'\n",
    "neurons_per_layer = [128, 128, 128, 128, 128, 128, 128, 128]"
   ]
  },
  {
   "cell_type": "markdown",
   "id": "627d3f8d",
   "metadata": {},
   "source": [
    "**Medium**"
   ]
  },
  {
   "cell_type": "raw",
   "id": "ff661352",
   "metadata": {},
   "source": [
    "model_id_prefix = 'mediumMLP_'\n",
    "neurons_per_layer = [64, 64, 64]"
   ]
  },
  {
   "cell_type": "markdown",
   "id": "f9e62379",
   "metadata": {},
   "source": [
    "**Small**"
   ]
  },
  {
   "cell_type": "raw",
   "id": "dfa10f02",
   "metadata": {},
   "source": [
    "model_id_prefix = 'smallMLP_'\n",
    "neurons_per_layer = [16, 16, 16, 16, 16, 16, 16]"
   ]
  },
  {
   "cell_type": "code",
   "execution_count": null,
   "id": "7fbd668b-17f4-460d-ace0-4fa505d5c71b",
   "metadata": {},
   "outputs": [],
   "source": [
    "def sine_activation(x):\n",
    "    return tf.math.sin(x)"
   ]
  },
  {
   "cell_type": "markdown",
   "id": "a2f06e67-2b47-4329-ab68-044982e453df",
   "metadata": {
    "tags": []
   },
   "source": [
    "<span style=\"background-color:orange\">ATTENTION: Replaced relu with sin activation function.</span>"
   ]
  },
  {
   "cell_type": "markdown",
   "id": "bd092302-6263-41c6-8a72-4c52d5e751aa",
   "metadata": {},
   "source": [
    "N_PARAMS = np.load('./data/ygate/N_PARAMS.npy')"
   ]
  },
  {
   "cell_type": "raw",
   "id": "a40f2854-fb92-40ca-b775-1a29d126668e",
   "metadata": {},
   "source": [
    "model = Sequential()\n",
    "model.add(Input(shape=(1,), name='input1'))\n",
    "for i, n in enumerate(NEURONS_PER_LAYER):\n",
    "    model.add(Dense(n, name='fc{}'.format(i), kernel_initializer='lecun_uniform'))\n",
    "    model.add(Activation(activation='relu', name='relu{}'.format(i)))\n",
    "model.add(Dense(N_PARAMS, name='fc{}'.format(len(NEURONS_PER_LAYER)), kernel_initializer='lecun_uniform'))"
   ]
  },
  {
   "cell_type": "code",
   "execution_count": null,
   "id": "6a489e68-f36f-42bb-9023-c117a8705042",
   "metadata": {},
   "outputs": [],
   "source": [
    "model = Sequential()\n",
    "model.add(Input(shape=(1,), name='input1'))\n",
    "for i, n in enumerate(NEURONS_PER_LAYER):\n",
    "    model.add(Dense(n, name='fc{}'.format(i), kernel_initializer='lecun_uniform'))\n",
    "    model.add(Activation(activation=sine_activation, name='sine{}'.format(i)))\n",
    "model.add(Dense(N_PARAMS, name='fc{}'.format(len(NEURONS_PER_LAYER)), kernel_initializer='lecun_uniform'))"
   ]
  },
  {
   "cell_type": "raw",
   "id": "5c174d33-fdd0-41c8-812d-9036038cd662",
   "metadata": {},
   "source": [
    "def sine_activation(x):\n",
    "    return tf.math.sin(x)\n",
    "\n",
    "model = Sequential()\n",
    "model.add(Input(shape=(1,), name='input1'))\n",
    "for i, n in enumerate(NEURONS_PER_LAYER):\n",
    "    model.add(Dense(n, name='fc{}'.format(i), kernel_initializer='lecun_uniform'))\n",
    "    model.add(Activation(activation=sine_activation, name='sine{}'.format(i)))\n",
    "model.add(Dense(N_PARAMS, name='fc{}'.format(len(NEURONS_PER_LAYER)), kernel_initializer='lecun_uniform'))"
   ]
  },
  {
   "cell_type": "code",
   "execution_count": null,
   "id": "5dac81cd-0011-4427-a04b-724fda6dc05c",
   "metadata": {},
   "outputs": [],
   "source": [
    "model.summary()"
   ]
  },
  {
   "cell_type": "raw",
   "id": "3dad84ab-3820-4de0-969c-7b7f50c5a932",
   "metadata": {},
   "source": [
    "tf.keras.utils.plot_model(model, to_file='forward_problem_model.png', show_shapes=True, show_layer_names=True)"
   ]
  },
  {
   "cell_type": "code",
   "execution_count": null,
   "id": "c185d971-1b39-4178-99a1-f782b6ee7171",
   "metadata": {},
   "outputs": [],
   "source": [
    "keras2ascii(model)"
   ]
  },
  {
   "cell_type": "code",
   "execution_count": null,
   "id": "4bba6095-0132-47f5-96b1-356f7acd6869",
   "metadata": {},
   "outputs": [],
   "source": [
    "model_id = MODEL_ID_PREFIX + get_basic_id(model)\n",
    "print(model_id)"
   ]
  },
  {
   "cell_type": "raw",
   "id": "0e49b5cc-d8ea-4076-9df6-431489ca4c62",
   "metadata": {},
   "source": [
    "model.compile(optimizer=tf.optimizers.Adam(lr=0.001),\n",
    "              loss=tf.losses.MeanSquaredError(),\n",
    "              metrics=[\n",
    "                  tf.losses.MeanSquaredError(),\n",
    "                  tf.metrics.MeanSquaredLogarithmicError(),\n",
    "                  tf.metrics.MeanAbsolutePercentageError()\n",
    "              ])"
   ]
  },
  {
   "cell_type": "code",
   "execution_count": null,
   "id": "825b7304-4a6c-4d38-872a-0348c5b216b7",
   "metadata": {},
   "outputs": [],
   "source": [
    "model.compile(\n",
    "    optimizer=tf.optimizers.Adam(learning_rate=0.0001),\n",
    "    loss='mean_squared_error',#tf.losses.MeanSquaredError()\n",
    "    metrics=[\n",
    "        'mean_squared_error' #tf.losses.MeanSquaredError()\n",
    "        #tf.metrics.MeanSquaredLogarithmicError(),\n",
    "        #tf.metrics.MeanAbsolutePercentageError()\n",
    "    ])"
   ]
  },
  {
   "cell_type": "raw",
   "id": "2c079f39-3931-4e28-a8dc-d344cde803c8",
   "metadata": {},
   "source": [
    "\n",
    "def CustomLoss(y_true, y_pred, input_tensor):\n",
    "    return tf.keras.metrics.binary_crossentropy(y_true, y_pred) + tf.reduce_mean(input_tensor)\n",
    "\n",
    "X = np.random.uniform(0,1, (1000,1))\n",
    "y = np.random.randint(0,2, (1000,20))\n",
    "print(X.shape)\n",
    "print(y.shape)\n",
    "print(x_train.shape)\n",
    "print(y_train.shape)\n",
    "\n",
    "inp = Input(shape=(1,))\n",
    "hidden = Dense(100, activation='relu')(inp)\n",
    "out = Dense(20, activation='sigmoid')(hidden)\n",
    "target = Input((1,))\n",
    "model = Model([inp,target], out)\n",
    "\n",
    "model.add_loss( CustomLoss( target, out, inp ) )\n",
    "model.compile(loss=None, optimizer='adam')\n",
    "\n",
    "history = model.fit(x=[X,y], y=None,epochs=5)"
   ]
  },
  {
   "cell_type": "raw",
   "id": "a0c22a53-174c-4819-8536-f24bd799e3f6",
   "metadata": {},
   "source": [
    "from tensorflow.keras.models import Model\n",
    "def sine_activation(x):\n",
    "    return tf.math.sin(x)\n",
    "\n",
    "def CustomLoss(y_true, y_pred, input_tensor):\n",
    "    #return tf.keras.metrics.binary_crossentropy(y_true, y_pred) + tf.reduce_mean(input_tensor)\n",
    "    loss = tf.reduce_mean(tf.square(y_true - y_pred), axis=-1)\n",
    "    tf.print(y_true, output_stream=sys.stderr)\n",
    "    return loss\n",
    "\n",
    "#X = np.random.uniform(0,1, (1000,1))\n",
    "#y = np.random.randint(0,2, (1000,20))\n",
    "\n",
    "inp = Input(shape=(1,))\n",
    "hidden1 = Dense(16, kernel_initializer='lecun_uniform', activation=sine_activation)(inp)\n",
    "hidden2 = Dense(16, kernel_initializer='lecun_uniform', activation=sine_activation)(hidden1)\n",
    "hidden3 = Dense(16, kernel_initializer='lecun_uniform', activation=sine_activation)(hidden2)\n",
    "hidden4 = Dense(16, kernel_initializer='lecun_uniform', activation=sine_activation)(hidden3)\n",
    "hidden5 = Dense(16, kernel_initializer='lecun_uniform', activation=sine_activation)(hidden4)\n",
    "hidden6 = Dense(16, kernel_initializer='lecun_uniform', activation=sine_activation)(hidden5)\n",
    "hidden7 = Dense(16, kernel_initializer='lecun_uniform', activation=sine_activation)(hidden6)\n",
    "out = Dense(20, activation=sine_activation)(hidden7)\n",
    "target = Input(shape=(20,))\n",
    "model = Model([inp,target], out)\n",
    "\n",
    "model.summary()\n",
    "\n",
    "model.add_loss( CustomLoss( target, out, inp ) )\n",
    "model.compile(loss=None, optimizer=tf.optimizers.Adam(learning_rate=0.0001),\n",
    "              metrics=['mean_squared_error'], run_eagerly=True)\n",
    "history = model.fit(x=[x_train,y_train], y=None,epochs=5)"
   ]
  },
  {
   "cell_type": "raw",
   "id": "920b6037-70e8-44eb-b86c-cf145eb48ad1",
   "metadata": {},
   "source": [
    "model.save(prefix + '/model.h5')\n",
    "text_file = open(prefix+\"/model_id.txt\", \"w\")\n",
    "n = text_file.write(model_id)\n",
    "text_file.close()\n",
    "np.save(prefix + '/neurons_per_layer.npy', neurons_per_layer)"
   ]
  },
  {
   "cell_type": "markdown",
   "id": "b002f4a5-df05-4ff2-be6d-24f8027ca4ea",
   "metadata": {},
   "source": [
    "### Training"
   ]
  },
  {
   "cell_type": "code",
   "execution_count": null,
   "id": "484a2816-32f9-4971-9e3a-899c189698e2",
   "metadata": {},
   "outputs": [],
   "source": [
    "from tensorflow.keras.callbacks import EarlyStopping, ModelCheckpoint\n",
    "from tensorflow.keras.models import load_model\n",
    "import pandas as pd\n",
    "import numpy as np"
   ]
  },
  {
   "cell_type": "raw",
   "id": "be1a447c-a409-4bd4-a012-6b8623acbf4d",
   "metadata": {},
   "source": [
    "prefix = './model/ygate'\n",
    "model = load_model(prefix + '/model.h5')"
   ]
  },
  {
   "cell_type": "code",
   "execution_count": null,
   "id": "44e3657d-d0ac-40e6-9829-694436270bb4",
   "metadata": {},
   "outputs": [],
   "source": [
    "best_model_file = PREFIX + '/best_keras_model.h5'\n",
    "last_model_file = PREFIX + '/last_keras_model.h5'"
   ]
  },
  {
   "cell_type": "markdown",
   "id": "dc377ba8-5215-4e0a-96be-9783d9b8c6a8",
   "metadata": {},
   "source": [
    "Enable training (`train_and_save`) to overwrite the model file."
   ]
  },
  {
   "cell_type": "code",
   "execution_count": null,
   "id": "c95e4501-3aea-4053-9788-30b4532d7f82",
   "metadata": {},
   "outputs": [],
   "source": [
    "train_and_save = True"
   ]
  },
  {
   "cell_type": "markdown",
   "id": "b7b21f50-99ab-4ada-aa86-fed2cc82efc2",
   "metadata": {},
   "source": [
    "We use Adam optimizer, minimize the Mean Squared Error, and early stop."
   ]
  },
  {
   "cell_type": "raw",
   "id": "9ef472e4-2263-44ab-b7ee-acf8bb75e818",
   "metadata": {},
   "source": [
    "%%time\n",
    "history = None\n",
    "if train_and_save:\n",
    "    early_stopping = EarlyStopping(\n",
    "        monitor='val_loss',\n",
    "        mode='min',\n",
    "        patience=5000,\n",
    "        verbose=1)\n",
    "    model_checkpoint = ModelCheckpoint(\n",
    "        filepath=best_model_file,\n",
    "        monitor='val_loss',\n",
    "        mode='min',\n",
    "        save_best_only=True)\n",
    "    history = model.fit(\n",
    "        x_train,\n",
    "        y_train,\n",
    "        epochs=5000,\n",
    "        batch_size=128, # default 32\n",
    "        validation_data=(x_val, y_val),\n",
    "        callbacks=[early_stopping, model_checkpoint],\n",
    "        verbose=0)\n",
    "    model.save(last_model_file)"
   ]
  },
  {
   "cell_type": "markdown",
   "id": "a4a4074c-a8ef-4a69-a8cd-5714edb90166",
   "metadata": {},
   "source": [
    "Load the saved best model and use it from now on."
   ]
  },
  {
   "cell_type": "code",
   "execution_count": null,
   "id": "cd8ca2af-9932-40b7-a3b1-ecd7bb5e88e8",
   "metadata": {},
   "outputs": [],
   "source": [
    "model = load_model(best_model_file, custom_objects={'sine_activation': sine_activation})\n",
    "#model = load_model(best_model_file)"
   ]
  },
  {
   "cell_type": "markdown",
   "id": "4e57cb40-ca2c-4ac7-905c-e13beaf71a51",
   "metadata": {},
   "source": [
    "### Evaluation"
   ]
  },
  {
   "cell_type": "markdown",
   "id": "7b5556f8-c81b-4522-b7be-d847b6f20452",
   "metadata": {},
   "source": [
    "Although we may plot and print many metrics, we focus only on **Mean Squared Error (MSE).**"
   ]
  },
  {
   "cell_type": "markdown",
   "id": "89dc9acc-ad33-4df3-ac56-8ed3913ce16d",
   "metadata": {},
   "source": [
    "Plot training history."
   ]
  },
  {
   "cell_type": "code",
   "execution_count": null,
   "id": "8f184851-f9c2-4955-862f-8c779f6d981c",
   "metadata": {
    "tags": []
   },
   "outputs": [],
   "source": [
    "from utils.metrics import plot_metrics\n",
    "plot_metrics(PREFIX,\n",
    "             framework='Keras',\n",
    "             save=train_and_save,\n",
    "             show_all=False, # show MSLE and MAPE, in addition to MSE\n",
    "             history=history)"
   ]
  },
  {
   "cell_type": "markdown",
   "id": "95a331d8-70ea-4ea4-8f5b-256472850784",
   "metadata": {},
   "source": [
    "Measure and print metrics."
   ]
  },
  {
   "cell_type": "code",
   "execution_count": null,
   "id": "32ff7d16-5709-41d6-b3f7-e6c9a062b35c",
   "metadata": {
    "tags": []
   },
   "outputs": [],
   "source": [
    "#mse, msle, mape = model.evaluate(x_test, y_test)\n",
    "mse = model.evaluate(x_test, y_test)[0]\n",
    "msle, mape = None, None"
   ]
  },
  {
   "cell_type": "code",
   "execution_count": null,
   "id": "ba04816d-57f2-49de-835a-d5c326960ca0",
   "metadata": {},
   "outputs": [],
   "source": [
    "mse = model.evaluate(x_val, y_val)[0]\n",
    "msle, mape = None, None"
   ]
  },
  {
   "cell_type": "code",
   "execution_count": null,
   "id": "9ea88851-ed24-42d4-b36c-e79175af6847",
   "metadata": {
    "tags": []
   },
   "outputs": [],
   "source": [
    "y_keras = model.predict(x_test)"
   ]
  },
  {
   "cell_type": "code",
   "execution_count": null,
   "id": "ce3dbae0-9c9b-43b4-b543-0c30ea7ab6ce",
   "metadata": {},
   "outputs": [],
   "source": [
    "model.summary()"
   ]
  },
  {
   "cell_type": "markdown",
   "id": "dad30db9-d0fc-4455-90a4-e520975b3ce8",
   "metadata": {},
   "source": [
    "Plot animation of a sorted test set along with its predictions"
   ]
  },
  {
   "cell_type": "code",
   "execution_count": null,
   "id": "e0904fe5-1dca-4181-931a-452699ed50cc",
   "metadata": {},
   "outputs": [],
   "source": [
    "import matplotlib.animation as animation\n",
    "from IPython.display import HTML\n",
    "import matplotlib.pyplot as plt\n",
    "\n",
    "# Sort the test values by beta\n",
    "\n",
    "XY_actual = np.concatenate((x_test, y_test), axis=1)\n",
    "XY_pred = np.concatenate((x_test, y_keras), axis=1)\n",
    "\n",
    "#XY_actual = sort_array(XY_actual)\n",
    "#XY_pred = sort_array(XY_pred)\n",
    "\n",
    "XY_actual = XY_actual[XY_actual[:,0].argsort()]\n",
    "\n",
    "XY_pred = XY_pred[XY_pred[:,0].argsort()]\n",
    "\n",
    "#print(XY_actual)\n",
    "#print(XY_pred)\n",
    "\n",
    "## Needs ffmpeg. Install using \"conda install -c conda-forge ffmpeg\"\n",
    "start_idx = 0\n",
    "num_frames = 2000\n",
    "frame_interval_ms = 100\n",
    "\n",
    "# get x and y\n",
    "x = np.arange(1, N_PARAMS+1, 1)\n",
    "#y = y_test[start_idx:start_idx+num_frames,:]\n",
    "#y_pred = y_keras[start_idx:start_idx+num_frames,:]\n",
    "#beta = x_test[start_idx:start_idx+num_frames,:]\n",
    "y = XY_actual[start_idx:start_idx+num_frames,N_ANGLES:]\n",
    "beta = XY_actual[start_idx:start_idx+num_frames,:N_ANGLES]\n",
    "y_pred = XY_pred[start_idx:start_idx+num_frames,N_ANGLES:]\n",
    "\n",
    "print(y.shape)\n",
    "print(beta.shape)\n",
    "print(y_pred.shape)\n",
    "\n",
    "# create a figure and an axis object\n",
    "plt.ioff()\n",
    "fig, ax = plt.subplots()\n",
    "\n",
    "# set labels and plot limits\n",
    "plt.ylabel('Pulse parameter values')\n",
    "plt.xlabel('Pulse parameters (α[1:{}])'.format(N_PARAMS))\n",
    "#plt.ylim([min_pparam_value, max_pparam_value*5/4])\n",
    "plt.xticks(x, x)\n",
    "\n",
    "# initialize an empty line object\n",
    "line, = ax.plot([], [], marker='o', linestyle='--', color='r', label='actual')\n",
    "line_pr, = ax.plot([], [], marker='o', linestyle='--', color='g', label='predicted')\n",
    "ax.legend()\n",
    "\n",
    "# create a text object inside the axes\n",
    "title = ax.text(0.05, 0.9, \"\", transform=ax.transAxes)\n",
    "\n",
    "# define a function that updates the line object for each frame\n",
    "def animate(i):\n",
    "    title.set_text(f\"Beta: {beta[i]}\")\n",
    "    # update line data\n",
    "    line.set_data(x, y[i])\n",
    "    line_pr.set_data(x, y_pred[i])\n",
    "    return line,\n",
    "\n",
    "# create an animation object using FuncAnimation\n",
    "anim = animation.FuncAnimation(fig, animate,\n",
    "                              frames=num_frames,\n",
    "                              interval=frame_interval_ms,\n",
    "                              repeat=False)\n",
    "\n",
    "# show the animation\n",
    "%matplotlib inline\n",
    "HTML(anim.to_html5_video())"
   ]
  },
  {
   "cell_type": "code",
   "execution_count": null,
   "id": "3839f46c-4c5d-4056-a87d-8b557bccfe5a",
   "metadata": {
    "tags": []
   },
   "outputs": [],
   "source": [
    "## Added Code to check visually the difference in signals from the model and the actual sample\n",
    "\n",
    "%matplotlib inline\n",
    "import matplotlib.pyplot as plt\n",
    "    \n",
    "entry_id = 0\n",
    "outside = 0\n",
    "\n",
    "x_new = []\n",
    "y_new = []\n",
    "while (entry_id < x_test.shape[0]):\n",
    "    angle = x_test[entry_id:entry_id+1][0][0]\n",
    "    if (angle > 3 or angle < -3):\n",
    "        outside += 1\n",
    "    else:\n",
    "        x_new.append(x_test[entry_id])\n",
    "        y_new.append(y_keras[entry_id])\n",
    "    entry_id += 1\n",
    "entry_id -= 1\n",
    "x_new = np.array(x_new)\n",
    "y_new = np.array(y_new)\n",
    "print(outside)\n",
    "x = np.arange(1, N_PARAMS+1, 1)\n",
    "y = y_test[entry_id:entry_id+1,:N_PARAMS][0]\n",
    "y_pr = y_keras[entry_id:entry_id+1,:N_PARAMS][0]\n",
    "\n",
    "plt.plot(x, y, marker='o', linestyle='--', color='r', label='actual') \n",
    "plt.plot(x, y_pr, marker='o', linestyle='--', color='g', label='predicted') \n",
    "plt.legend(loc=\"upper right\")\n",
    "plt.xticks(x, x)\n",
    "angle = x_test[entry_id:entry_id+1][0][0]\n",
    "plt.title('Gate parameter (angle) {}'.format(angle))\n",
    "plt.ylabel('Amplitude')\n",
    "plt.xlabel('Pulse parameters')\n",
    "plt.show()"
   ]
  },
  {
   "cell_type": "code",
   "execution_count": null,
   "id": "2881f6cb-76ab-41b4-a8f1-699426277943",
   "metadata": {
    "tags": []
   },
   "outputs": [],
   "source": [
    "import random\n",
    "hash_id = random.getrandbits(32)\n",
    "\n",
    "if FIDELITY_ENABLED:\n",
    "    ygate_fidelity_keras = get_ygate_fidelity(x_test, y_keras,\n",
    "                                              limit=x_test.shape[0],\n",
    "                                              config_template=CONFIG_TEMPLATE_JSON,\n",
    "                                              pulse_data_path='/tmp/ygate_{:x}.csv'.format(hash_id),\n",
    "                                              output_objf_path='/tmp/ygate_fidelity_{:x}.csv'.format(hash_id))\n",
    "else:\n",
    "    ygate_fidelity_keras = None"
   ]
  },
  {
   "cell_type": "code",
   "execution_count": null,
   "id": "13bd5184-71da-4696-b517-29b0b975b49b",
   "metadata": {},
   "outputs": [],
   "source": []
  },
  {
   "cell_type": "markdown",
   "id": "ef032982-22b6-4f40-b7bb-e9dc0b3b2208",
   "metadata": {},
   "source": [
    "Save metrics values to file for future reference."
   ]
  },
  {
   "cell_type": "code",
   "execution_count": null,
   "id": "5d1a9001-6fc3-4dd6-ba3e-9a49d60edfe1",
   "metadata": {
    "tags": []
   },
   "outputs": [],
   "source": [
    "metrics_filename = PREFIX + '/metrics.csv'\n",
    "\n",
    "# You can disable the writing if necessary.\n",
    "write_metrics_csv = True"
   ]
  },
  {
   "cell_type": "code",
   "execution_count": null,
   "id": "4b4dbaac-6c40-489d-9339-09633b687c7e",
   "metadata": {
    "tags": []
   },
   "outputs": [],
   "source": [
    "from utils.metrics import write_metrics\n",
    "if write_metrics_csv:\n",
    "    write_metrics(metrics_filename, 'Keras', model_id, mse, msle, mape, ygate_fidelity_keras)"
   ]
  },
  {
   "cell_type": "code",
   "execution_count": null,
   "id": "b954ca24-6aaa-4c93-aab3-d6416dc58ddc",
   "metadata": {
    "scrolled": true,
    "tags": []
   },
   "outputs": [],
   "source": [
    "from utils.metrics import print_metrics\n",
    "print_metrics(metrics_filename)"
   ]
  },
  {
   "cell_type": "markdown",
   "id": "cb55a3d6-98fd-4d23-9cbe-80c026eb9719",
   "metadata": {},
   "source": [
    "### Save traces"
   ]
  },
  {
   "cell_type": "markdown",
   "id": "fb0bb843-7cdb-4e95-b1c7-367f26d016f2",
   "metadata": {},
   "source": [
    "These traces can be sared with quantum experts."
   ]
  },
  {
   "cell_type": "code",
   "execution_count": null,
   "id": "d1512c3d-9652-4f76-b866-d9551760b344",
   "metadata": {},
   "outputs": [],
   "source": [
    "data_y_test = pd.DataFrame(y_test)\n",
    "data_y_test = data_y_test.reset_index(drop=True)\n",
    "\n",
    "data_x_test = pd.DataFrame(x_test)\n",
    "data_x_test = data_x_test.reset_index(drop=True)\n",
    "\n",
    "data_test = pd.concat([data_y_test, data_x_test], axis=1)\n",
    "\n",
    "data_test.to_csv('reference.csv')"
   ]
  },
  {
   "cell_type": "code",
   "execution_count": null,
   "id": "206c266a-cbd5-4ed5-b084-03b15de2af58",
   "metadata": {},
   "outputs": [],
   "source": [
    "data_y_keras = pd.DataFrame(y_keras)\n",
    "data_y_keras = data_y_keras.reset_index(drop=True)\n",
    "\n",
    "data_x_test = pd.DataFrame(x_test)\n",
    "data_x_test = data_x_test.reset_index(drop=True)\n",
    "\n",
    "data_keras = pd.concat([data_y_keras, data_x_test], axis=1)\n",
    "\n",
    "data_keras.to_csv('keras_results.csv')"
   ]
  }
 ],
 "metadata": {
  "kernelspec": {
   "display_name": "Python 3 (ipykernel)",
   "language": "python",
   "name": "python3"
  },
  "language_info": {
   "codemirror_mode": {
    "name": "ipython",
    "version": 3
   },
   "file_extension": ".py",
   "mimetype": "text/x-python",
   "name": "python",
   "nbconvert_exporter": "python",
   "pygments_lexer": "ipython3",
   "version": "3.10.0"
  }
 },
 "nbformat": 4,
 "nbformat_minor": 5
}
