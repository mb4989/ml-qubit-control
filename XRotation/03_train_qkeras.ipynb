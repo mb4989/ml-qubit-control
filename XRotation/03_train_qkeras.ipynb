{
 "cells": [
  {
   "cell_type": "markdown",
   "id": "374b8e1e",
   "metadata": {},
   "source": [
    "# XRoration (XGate) - QKeras ML Models"
   ]
  },
  {
   "cell_type": "markdown",
   "id": "67e7659a-fe1b-4fdf-8c09-a398e498373b",
   "metadata": {},
   "source": [
    "## Configuration"
   ]
  },
  {
   "cell_type": "markdown",
   "id": "66cdd246-6be6-4503-8ef6-d96f4b377d47",
   "metadata": {},
   "source": [
    "Pulse and fidelity computation are computation intensive (slow)."
   ]
  },
  {
   "cell_type": "code",
   "execution_count": 1,
   "id": "46b80433-2ff7-423e-801d-4a6b4392bcc5",
   "metadata": {},
   "outputs": [],
   "source": [
    "PULSE_ENABLED = False\n",
    "FIDELITY_ENABLED = True"
   ]
  },
  {
   "cell_type": "markdown",
   "id": "854caad4-ed4c-413d-b0bf-e7953da036bb",
   "metadata": {},
   "source": [
    "Parameters are stored in a shared script."
   ]
  },
  {
   "cell_type": "code",
   "execution_count": 2,
   "id": "c9418886-6a3f-4473-ae89-53bab6428eb2",
   "metadata": {},
   "outputs": [],
   "source": [
    "from parameters import *"
   ]
  },
  {
   "cell_type": "markdown",
   "id": "44a638f7-87c1-454d-ae92-89c1622ebaa0",
   "metadata": {},
   "source": [
    "Enable seeding for reproducibility of the training."
   ]
  },
  {
   "cell_type": "raw",
   "id": "c69ca338-d83d-4c85-86c3-2401c5c55e25",
   "metadata": {},
   "source": [
    "seed = 0\n",
    "np.random.seed(seed)\n",
    "tf.random.set_seed(seed)"
   ]
  },
  {
   "cell_type": "markdown",
   "id": "e0d17135-58ce-45e4-9c16-1d1b76f34ea3",
   "metadata": {
    "tags": []
   },
   "source": [
    "## Library"
   ]
  },
  {
   "cell_type": "code",
   "execution_count": 3,
   "id": "fa89948c",
   "metadata": {},
   "outputs": [
    {
     "name": "stderr",
     "output_type": "stream",
     "text": [
      "2024-04-20 15:41:17.958343: I tensorflow/core/platform/cpu_feature_guard.cc:193] This TensorFlow binary is optimized with oneAPI Deep Neural Network Library (oneDNN) to use the following CPU instructions in performance-critical operations:  SSE4.1 SSE4.2 AVX AVX2 FMA\n",
      "To enable them in other operations, rebuild TensorFlow with the appropriate compiler flags.\n"
     ]
    }
   ],
   "source": [
    "import os\n",
    "import numpy as np\n",
    "import pandas as pd\n",
    "import tensorflow as tf\n",
    "\n",
    "import sys\n",
    "sys.path.append('..')\n",
    "\n",
    "from utils.helpers import *\n",
    "\n",
    "# Disable some console warnings\n",
    "os.environ['TF_XLA_FLAGS'] = '--tf_xla_enable_xla_devices'\n",
    "os.environ['TF_CPP_MIN_LOG_LEVEL'] = '3'"
   ]
  },
  {
   "cell_type": "markdown",
   "id": "c6c9e65e-f247-4388-a274-6041e8cdcc27",
   "metadata": {},
   "source": [
    "## Check GPU"
   ]
  },
  {
   "cell_type": "markdown",
   "id": "426f3611-d9b1-482f-8ccd-7a39f8e9aca8",
   "metadata": {},
   "source": [
    "tf 2.11 seems to be too greedy with memory and needs to be limited if you plan to have multiple scripts with active python kernels"
   ]
  },
  {
   "cell_type": "code",
   "execution_count": 4,
   "id": "775634aa-b945-4eae-9b44-0f936aecb863",
   "metadata": {},
   "outputs": [
    {
     "name": "stdout",
     "output_type": "stream",
     "text": [
      "1 Physical GPUs, 1 Logical GPUs\n"
     ]
    }
   ],
   "source": [
    "gpus = tf.config.experimental.list_physical_devices('GPU')\n",
    "if gpus:\n",
    "    try:\n",
    "        # Currently, memory growth needs to be the same across GPUs\n",
    "        for gpu in gpus:\n",
    "            tf.config.experimental.set_memory_growth(gpu, True)\n",
    "        logical_gpus = tf.config.experimental.list_logical_devices('GPU')\n",
    "        print(len(gpus), \"Physical GPUs,\", len(logical_gpus), \"Logical GPUs\")\n",
    "    except RuntimeError as e:\n",
    "        # Memory growth must be set before GPUs have been initialized\n",
    "        print(e)"
   ]
  },
  {
   "cell_type": "code",
   "execution_count": 5,
   "id": "820e0d5e-f4b2-4184-9562-e82b3505ecbc",
   "metadata": {
    "tags": []
   },
   "outputs": [
    {
     "name": "stdout",
     "output_type": "stream",
     "text": [
      "[name: \"/device:CPU:0\"\n",
      "device_type: \"CPU\"\n",
      "memory_limit: 268435456\n",
      "locality {\n",
      "}\n",
      "incarnation: 5928961867548052656\n",
      "xla_global_id: -1\n",
      ", name: \"/device:XLA_CPU:0\"\n",
      "device_type: \"XLA_CPU\"\n",
      "memory_limit: 17179869184\n",
      "locality {\n",
      "}\n",
      "incarnation: 9804320277159547267\n",
      "physical_device_desc: \"device: XLA_CPU device\"\n",
      "xla_global_id: -1\n",
      ", name: \"/device:GPU:0\"\n",
      "device_type: \"GPU\"\n",
      "memory_limit: 7768309760\n",
      "locality {\n",
      "  bus_id: 1\n",
      "  links {\n",
      "  }\n",
      "}\n",
      "incarnation: 8627887128877027264\n",
      "physical_device_desc: \"device: 0, name: GeForce GTX 1080, pci bus id: 0000:01:00.0, compute capability: 6.1\"\n",
      "xla_global_id: 416903419\n",
      ", name: \"/device:XLA_GPU:0\"\n",
      "device_type: \"XLA_GPU\"\n",
      "memory_limit: 17179869184\n",
      "locality {\n",
      "}\n",
      "incarnation: 11941867608357572273\n",
      "physical_device_desc: \"device: XLA_GPU device\"\n",
      "xla_global_id: -1\n",
      "]\n"
     ]
    }
   ],
   "source": [
    "from tensorflow.python.client import device_lib\n",
    "print(device_lib.list_local_devices())"
   ]
  },
  {
   "cell_type": "markdown",
   "id": "9b4ad03d-ae5d-4bc6-b055-3e8579849c5d",
   "metadata": {},
   "source": [
    "## Dataset"
   ]
  },
  {
   "cell_type": "markdown",
   "id": "f13d0b8c-6699-4caf-b257-abc4f8e49b99",
   "metadata": {},
   "source": [
    "### Load"
   ]
  },
  {
   "cell_type": "code",
   "execution_count": 6,
   "id": "667c238f-0e0f-4e4c-b185-f76d1ca261ea",
   "metadata": {},
   "outputs": [],
   "source": [
    "x_train = np.load('./data/xrotation/{}/x_train.npy'.format(CSV_CONFIG), allow_pickle=True)\n",
    "x_val = np.load('./data/xrotation/{}/x_val.npy'.format(CSV_CONFIG), allow_pickle=True)\n",
    "x_test = np.load('./data/xrotation/{}/x_test.npy'.format(CSV_CONFIG), allow_pickle=True)\n",
    "y_train = np.load('./data/xrotation/{}/y_train.npy'.format(CSV_CONFIG), allow_pickle=True)\n",
    "y_val = np.load('./data/xrotation/{}/y_val.npy'.format(CSV_CONFIG), allow_pickle=True)\n",
    "y_test = np.load('./data/xrotation/{}/y_test.npy'.format(CSV_CONFIG), allow_pickle=True)"
   ]
  },
  {
   "cell_type": "code",
   "execution_count": 7,
   "id": "42410565-f6b2-40ae-9ba2-1a18fa5a02a0",
   "metadata": {},
   "outputs": [],
   "source": [
    "x_train = x_train.astype('float32')\n",
    "x_test = x_test.astype('float32')\n",
    "x_val = x_val.astype('float32')\n",
    "y_train = y_train.astype('float32')\n",
    "y_val = y_val.astype('float32')\n",
    "y_test = y_test.astype('float32')"
   ]
  },
  {
   "cell_type": "code",
   "execution_count": 8,
   "id": "e1f9884a-1b42-4050-bc8a-96395f65c9d7",
   "metadata": {},
   "outputs": [],
   "source": [
    "N_ANGLES = x_train.shape[1]\n",
    "N_PARAMS = y_train.shape[1]"
   ]
  },
  {
   "cell_type": "code",
   "execution_count": 9,
   "id": "95debf17-6de3-49fc-9064-b01c985c3665",
   "metadata": {},
   "outputs": [
    {
     "name": "stdout",
     "output_type": "stream",
     "text": [
      "---------------------------------------\n",
      "- Pulse parameters (y) # 5\n",
      "- Gate parameters  (x) # 1\n",
      "---------------------------------------\n"
     ]
    }
   ],
   "source": [
    "print('---------------------------------------')\n",
    "print('- Pulse parameters (y) #', N_PARAMS) # ASSUMING 1 BETA VALUE (ANGLE ALONG X AXIS)\n",
    "print('- Gate parameters  (x) #', N_ANGLES) # ASSUMING 1 BETA VALUE (ANGLES ALONG X AXIS)\n",
    "print('---------------------------------------')"
   ]
  },
  {
   "cell_type": "markdown",
   "id": "984e03b8-cc45-4b1c-abdc-ff003a852d3a",
   "metadata": {},
   "source": [
    "### Evaluation"
   ]
  },
  {
   "cell_type": "markdown",
   "id": "6e3288af-1cd8-45d2-8ba0-1abf4bedc76c",
   "metadata": {},
   "source": [
    "<span style=\"color:red\">ATTENTION: Measuring fidelity on the entire train, validation, and test sets could be time consuming. Use `limit` parameter in case.</span>"
   ]
  },
  {
   "cell_type": "raw",
   "id": "9e238352-278e-4a72-a5dd-e298a8875e88",
   "metadata": {},
   "source": [
    "%%time\n",
    "if FIDELITY_ENABLED:\n",
    "    # Using some hash to avoid name collision\n",
    "    import random\n",
    "    hash_id = random.getrandbits(32)\n",
    "\n",
    "    xgate_fidelity_train = get_xgate_fidelity(x_train,\n",
    "                                              y_train,\n",
    "                                              limit=1000,\n",
    "                                              config_template=CONFIG_TEMPLATE_JSON,\n",
    "                                              pulse_data_path='/tmp/xgate_{:x}.csv'.format(hash_id),\n",
    "                                              output_objf_path='/tmp/xgate_fidelity_{:x}.csv'.format(hash_id))\n",
    "    xgate_fidelity_val = get_xgate_fidelity(x_val,\n",
    "                                            y_val,\n",
    "                                            limit=1000,\n",
    "                                            config_template=CONFIG_TEMPLATE_JSON,\n",
    "                                            pulse_data_path='/tmp/xgate_{:x}.csv'.format(hash_id),\n",
    "                                            output_objf_path='/tmp/xgate_fidelity_{:x}.csv'.format(hash_id))\n",
    "    xgate_fidelity_test = get_xgate_fidelity(x_test,\n",
    "                                             y_test,\n",
    "                                             limit=1000,\n",
    "                                             config_template=CONFIG_TEMPLATE_JSON,\n",
    "                                             pulse_data_path='/tmp/xgate_{:x}.csv'.format(hash_id),\n",
    "                                             output_objf_path='/tmp/xgate_fidelity_{:x}.csv'.format(hash_id))\n",
    "\n",
    "    print('---------------------------------------')\n",
    "    print('Config:', CONFIG_TEMPLATE_JSON)\n",
    "    print('Fidelity:')\n",
    "    print('- train set:', xgate_fidelity_train)\n",
    "    print('- val set:', xgate_fidelity_test)\n",
    "    print('- test set:', xgate_fidelity_val)\n",
    "    print('---------------------------------------')\n",
    "else:\n",
    "    xgate_fidelity_train = -1\n",
    "    xgate_fidelity_val = -1\n",
    "    xgate_fidelity_test = -1\n",
    "    \n",
    "    print('---------------------------------------')\n",
    "    print('XGate fidelity: DISABLED')\n",
    "    print('---------------------------------------')"
   ]
  },
  {
   "cell_type": "markdown",
   "id": "61ecc581",
   "metadata": {
    "tags": []
   },
   "source": [
    "## MLP"
   ]
  },
  {
   "cell_type": "markdown",
   "id": "92e09c31-bf93-4575-b921-f5a19c8ecb7a",
   "metadata": {
    "tags": []
   },
   "source": [
    "### Load Keras Model"
   ]
  },
  {
   "cell_type": "code",
   "execution_count": 10,
   "id": "a887bbe4-f188-4630-a5ee-924cffceb001",
   "metadata": {},
   "outputs": [],
   "source": [
    "from tensorflow.keras.layers import Layer"
   ]
  },
  {
   "cell_type": "code",
   "execution_count": 11,
   "id": "29fad213-27d4-43a6-a6f8-e17615ffbf8f",
   "metadata": {},
   "outputs": [],
   "source": [
    "best_model_file = PREFIX + '/best_keras_model.h5'\n",
    "def sine_activation(x):\n",
    "    return tf.math.sin(x)\n",
    "model = tf.keras.models.load_model(best_model_file, custom_objects={'sine_activation': sine_activation})\n",
    "model.compile(\n",
    "    optimizer=tf.optimizers.Adam(learning_rate=0.0001),\n",
    "    loss='mean_squared_error',\n",
    "    metrics=['mean_squared_error'])"
   ]
  },
  {
   "cell_type": "code",
   "execution_count": 12,
   "id": "d5fedf40-33e0-44f4-8d9c-f1d2bedba258",
   "metadata": {},
   "outputs": [
    {
     "name": "stdout",
     "output_type": "stream",
     "text": [
      "smallMLP_1x4x5\n"
     ]
    }
   ],
   "source": [
    "model_id_qkeras = MODEL_ID_PREFIX + get_basic_id(model)\n",
    "print(model_id_qkeras)"
   ]
  },
  {
   "cell_type": "code",
   "execution_count": 13,
   "id": "052ac7fe-0933-49fa-ac9e-53a4f9733f86",
   "metadata": {},
   "outputs": [
    {
     "name": "stdout",
     "output_type": "stream",
     "text": [
      "Model: \"sequential\"\n",
      "_________________________________________________________________\n",
      " Layer (type)                Output Shape              Param #   \n",
      "=================================================================\n",
      " fc0 (Dense)                 (None, 4)                 8         \n",
      "                                                                 \n",
      " relu0 (Activation)          (None, 4)                 0         \n",
      "                                                                 \n",
      " fc1 (Dense)                 (None, 5)                 25        \n",
      "                                                                 \n",
      "=================================================================\n",
      "Total params: 33\n",
      "Trainable params: 33\n",
      "Non-trainable params: 0\n",
      "_________________________________________________________________\n"
     ]
    }
   ],
   "source": [
    "model.summary()"
   ]
  },
  {
   "cell_type": "markdown",
   "id": "6e02f79c-9228-4391-96c9-8139651cdef4",
   "metadata": {},
   "source": [
    "### QAT/QKeras\n",
    "\n",
    "#### Create model"
   ]
  },
  {
   "cell_type": "markdown",
   "id": "1e5510da-6f6a-49eb-9039-fb4d32be60fb",
   "metadata": {},
   "source": [
    "A classical multi-layer perceptron: 3 (inputs), 8 hidden layers w/ 128 neurons, and 20 (outputs).\n",
    "\n",
    "<span style=\"background-color:orange\">This may be oversized for the final hardware implementation, but it is a starting point. The bit-precision is likely oversized too. We can use AutoQKeras or manually tune the hyper-parameters.</span>"
   ]
  },
  {
   "cell_type": "code",
   "execution_count": 14,
   "id": "f6328c2b-5fe1-4200-8cf0-fa3a28ace922",
   "metadata": {},
   "outputs": [],
   "source": [
    "import qkeras\n",
    "from qkeras.qlayers import QDense, QActivation\n",
    "from qkeras.quantizers import quantized_bits, quantized_relu"
   ]
  },
  {
   "cell_type": "markdown",
   "id": "c174f7af-a128-4b2f-8bc8-5eb9832352d1",
   "metadata": {},
   "source": [
    "Remember that `ap_fixed<16, 8, true>` is `quantized_bits(bits=16,integer=7)`."
   ]
  },
  {
   "cell_type": "code",
   "execution_count": 15,
   "id": "68efa436-c788-4412-a14f-06d80aaa6ae3",
   "metadata": {},
   "outputs": [
    {
     "name": "stdout",
     "output_type": "stream",
     "text": [
      "WARNING:tensorflow:From /home/mb4989/miniconda3/envs/ml-qubit-control-env/lib/python3.10/site-packages/tensorflow/python/autograph/pyct/static_analysis/liveness.py:83: Analyzer.lamba_check (from tensorflow.python.autograph.pyct.static_analysis.liveness) is deprecated and will be removed after 2023-09-23.\n",
      "Instructions for updating:\n",
      "Lambda fuctions will be no more assumed to be used in the statement where they are used, or at least in the same block. https://github.com/tensorflow/tensorflow/issues/56089\n"
     ]
    }
   ],
   "source": [
    "# Build quantized model\n",
    "W=21\n",
    "I=5\n",
    "QN=1\n",
    "A=1\n",
    "\n",
    "qmodel = tf.keras.models.Sequential()\n",
    "#qmodel.add(Input(shape=(1,), name='input1'))\n",
    "qmodel.add(QDense(NEURONS_PER_LAYER[0],\n",
    "                  input_shape=(1,),\n",
    "                  name='fc0',\n",
    "                  kernel_quantizer=quantized_bits(bits=W,integer=I,alpha=A,qnoise_factor=QN),\n",
    "                  bias_quantizer=quantized_bits(bits=W,integer=I,alpha=A,qnoise_factor=QN),\n",
    "                  kernel_initializer='lecun_uniform'))\n",
    "qmodel.add(QActivation(activation=quantized_relu(bits=W,integer=I,qnoise_factor=QN),\n",
    "                       name='relu0'))\n",
    "\n",
    "for i, n in enumerate(NEURONS_PER_LAYER[1:]):\n",
    "    qmodel.add(QDense(n,\n",
    "                  name='fc{}'.format(i+1),\n",
    "                  kernel_quantizer=quantized_bits(bits=W,integer=I,alpha=A,qnoise_factor=QN),\n",
    "                  bias_quantizer=quantized_bits(bits=W,integer=I,alpha=A,qnoise_factor=QN),\n",
    "                  kernel_initializer='lecun_uniform'))\n",
    "    qmodel.add(QActivation(activation=quantized_relu(bits=W,integer=I,qnoise_factor=QN),\n",
    "                       name='relu{}'.format(i+1)))\n",
    "qmodel.add(QDense(N_PARAMS,\n",
    "                  name='fc{}'.format(len(NEURONS_PER_LAYER)),\n",
    "                  kernel_quantizer=quantized_bits(bits=W,integer=I,alpha=A,qnoise_factor=QN),\n",
    "                  bias_quantizer=quantized_bits(bits=W,integer=I,alpha=A,qnoise_factor=QN),\n",
    "                  kernel_initializer='lecun_uniform'))"
   ]
  },
  {
   "cell_type": "code",
   "execution_count": 16,
   "id": "51e965c4-1557-451d-b9f4-89bcc97bf6cf",
   "metadata": {},
   "outputs": [
    {
     "name": "stdout",
     "output_type": "stream",
     "text": [
      "Model: \"sequential\"\n",
      "_________________________________________________________________\n",
      " Layer (type)                Output Shape              Param #   \n",
      "=================================================================\n",
      " fc0 (QDense)                (None, 4)                 8         \n",
      "                                                                 \n",
      " relu0 (QActivation)         (None, 4)                 0         \n",
      "                                                                 \n",
      " fc1 (QDense)                (None, 5)                 25        \n",
      "                                                                 \n",
      "=================================================================\n",
      "Total params: 33\n",
      "Trainable params: 33\n",
      "Non-trainable params: 0\n",
      "_________________________________________________________________\n"
     ]
    }
   ],
   "source": [
    "qmodel.summary()"
   ]
  },
  {
   "cell_type": "markdown",
   "id": "67c3df21-1132-4f82-b6b7-63feb4f566a7",
   "metadata": {},
   "source": [
    "##### Training"
   ]
  },
  {
   "cell_type": "code",
   "execution_count": 17,
   "id": "49b8c375-cc37-4804-a514-c7d8ac8b95c6",
   "metadata": {},
   "outputs": [],
   "source": [
    "from tensorflow.keras.callbacks import EarlyStopping, ModelCheckpoint\n",
    "from tensorflow.keras.models import load_model"
   ]
  },
  {
   "cell_type": "raw",
   "id": "d6a1fb97-d532-4035-bd62-dddd06e955ee",
   "metadata": {},
   "source": [
    "seed = 0\n",
    "np.random.seed(seed)\n",
    "tf.random.set_seed(seed)"
   ]
  },
  {
   "cell_type": "code",
   "execution_count": 18,
   "id": "6399cf4e-74e9-433a-9f1b-07cf6de25ceb",
   "metadata": {},
   "outputs": [],
   "source": [
    "best_model_file_qkeras = PREFIX + '/best_qkeras_model.h5'\n",
    "last_model_file_qkeras = PREFIX + '/last_qkeras_model.h5'"
   ]
  },
  {
   "cell_type": "markdown",
   "id": "ad7bf3d5-7616-409d-8a68-d6e5e9d82f67",
   "metadata": {},
   "source": [
    "Enable training (`train_and_save`) to overwrite the model file."
   ]
  },
  {
   "cell_type": "code",
   "execution_count": 19,
   "id": "42384230-acd2-46b6-a9b9-ad18f4d6de63",
   "metadata": {},
   "outputs": [],
   "source": [
    "train_and_save = True"
   ]
  },
  {
   "cell_type": "markdown",
   "id": "bf9ae4bf-13fc-4500-87ea-822f60de7334",
   "metadata": {},
   "source": [
    "Set weights from the Keras model into the QKeras model"
   ]
  },
  {
   "cell_type": "code",
   "execution_count": 20,
   "id": "263fcd68-e2e7-41cd-8b76-dce4f4097195",
   "metadata": {},
   "outputs": [],
   "source": [
    "qmodel.set_weights(model.get_weights())\n",
    "qmodel.compile(\n",
    "    optimizer=tf.optimizers.Adam(learning_rate=0.0001),\n",
    "    loss='mean_squared_error',\n",
    "    metrics=['mean_squared_error'])\n",
    "qmodel.save(best_model_file_qkeras)"
   ]
  },
  {
   "cell_type": "markdown",
   "id": "843ebaf9-0a59-46be-9891-5ffbcc5ebc85",
   "metadata": {},
   "source": [
    "##### We need not train for now if we simply try porting the weights from the Keras model"
   ]
  },
  {
   "cell_type": "markdown",
   "id": "048d0c9d-6f0d-4bf6-a461-4cc620df59f7",
   "metadata": {},
   "source": [
    "We use Adam optimizer, minimize the Mean Squared Error, and early stop."
   ]
  },
  {
   "cell_type": "raw",
   "id": "919bfe2c-1e65-43b4-83e2-316fd888fb21",
   "metadata": {},
   "source": [
    "history = None\n",
    "if train_and_save:\n",
    "    qmodel.compile(\n",
    "        optimizer=tf.optimizers.Adam(learning_rate=0.0001),\n",
    "        loss='mean_squared_error',\n",
    "        metrics=[\n",
    "            'mean_squared_error'\n",
    "        ])\n",
    "    early_stopping = EarlyStopping(\n",
    "        monitor='val_loss',\n",
    "        mode='min',\n",
    "        patience=2000,\n",
    "        verbose=1)\n",
    "    model_checkpoint = ModelCheckpoint(\n",
    "        filepath=best_model_file_qkeras,\n",
    "        monitor='val_loss',\n",
    "        mode='min',\n",
    "        save_best_only=True)\n",
    "    history = qmodel.fit(\n",
    "        x_train,\n",
    "        y_train,\n",
    "        epochs=2000,\n",
    "        batch_size=128, # default 32\n",
    "        validation_data=(x_val, y_val),\n",
    "        callbacks=[early_stopping, model_checkpoint],\n",
    "        verbose=1)\n",
    "    qmodel.save(last_model_file_qkeras)"
   ]
  },
  {
   "cell_type": "markdown",
   "id": "cc4e1965-b5c7-4296-92a2-7f2495dcdd0e",
   "metadata": {},
   "source": [
    "Load the saved best model and use it from now on."
   ]
  },
  {
   "cell_type": "raw",
   "id": "62f47453-0706-495a-a01d-2db97a97833a",
   "metadata": {},
   "source": [
    "co = {}\n",
    "qkeras.utils._add_supported_quantized_objects(co)\n",
    "qmodel = tf.keras.models.load_model(best_model_file, custom_objects=co)"
   ]
  },
  {
   "cell_type": "raw",
   "id": "43d8b8b9-8ebc-4573-aa9e-28edb0729afe",
   "metadata": {
    "tags": []
   },
   "source": [
    "from qkeras.utils import quantized_model_debug\n",
    "import matplotlib.pyplot as plt\n",
    "\n",
    "quantized_model_debug(qmodel, x_test, plot=True, plt_instance=plt)"
   ]
  },
  {
   "cell_type": "raw",
   "id": "ccda4c2f-38e2-4983-91d7-a2f3f8120054",
   "metadata": {
    "tags": []
   },
   "source": [
    "from qkeras.utils import print_model_sparsity\n",
    "\n",
    "print_model_sparsity(qmodel)"
   ]
  },
  {
   "cell_type": "markdown",
   "id": "47b48622-7057-462e-988f-306a660821ae",
   "metadata": {},
   "source": [
    "##### Evaluation"
   ]
  },
  {
   "cell_type": "markdown",
   "id": "324a3e75-e21d-4519-9140-01b19b7552eb",
   "metadata": {},
   "source": [
    "Although we may plot and print many metrics, we focus only on **Mean Squared Error (MSE).**"
   ]
  },
  {
   "cell_type": "markdown",
   "id": "268b213b-a901-449f-9ec4-1c01e6af8346",
   "metadata": {},
   "source": [
    "Plot training history. (Not needed if no retraining of QKeras model is done)"
   ]
  },
  {
   "cell_type": "raw",
   "id": "13db3a75-6e25-463a-a282-add0bbe17667",
   "metadata": {},
   "source": [
    "from utils.metrics import plot_metrics\n",
    "plot_metrics(PREFIX,\n",
    "             framework='QKeras',\n",
    "             save=train_and_save,\n",
    "             show_all=False, # show MSLE and MAPE, in addition to MSE\n",
    "             history=history)"
   ]
  },
  {
   "cell_type": "markdown",
   "id": "7782ed7e-6afa-4695-9331-27d9b0685141",
   "metadata": {},
   "source": [
    "Print metrics."
   ]
  },
  {
   "cell_type": "code",
   "execution_count": 21,
   "id": "92f20260-6da7-402d-a2ac-2faa1bed0ffc",
   "metadata": {},
   "outputs": [
    {
     "name": "stdout",
     "output_type": "stream",
     "text": [
      "26/26 [==============================] - 0s 1ms/step - loss: 1.2713e-05 - mean_squared_error: 1.2713e-05\n"
     ]
    }
   ],
   "source": [
    "qmse = qmodel.evaluate(x_test, y_test)[0]\n",
    "qmsle, qmape = None, None"
   ]
  },
  {
   "cell_type": "code",
   "execution_count": 22,
   "id": "3487c4d0-884a-4d99-babe-64b4e1d532a1",
   "metadata": {},
   "outputs": [
    {
     "name": "stdout",
     "output_type": "stream",
     "text": [
      "26/26 [==============================] - 0s 776us/step\n"
     ]
    }
   ],
   "source": [
    "y_qkeras = qmodel.predict(x_test)"
   ]
  },
  {
   "cell_type": "code",
   "execution_count": 23,
   "id": "371f02d7-2994-4f52-a96b-4f8aa87eff72",
   "metadata": {},
   "outputs": [
    {
     "name": "stdout",
     "output_type": "stream",
     "text": [
      "26/26 [==============================] - 0s 854us/step - loss: 1.2692e-05 - mean_squared_error: 1.2692e-05\n"
     ]
    }
   ],
   "source": [
    "mse = model.evaluate(x_test, y_test)[0]\n",
    "msle, mape = None, None"
   ]
  },
  {
   "cell_type": "code",
   "execution_count": 24,
   "id": "89ba91ba-88a5-4b0d-bc15-ffc12267aeba",
   "metadata": {},
   "outputs": [
    {
     "name": "stdout",
     "output_type": "stream",
     "text": [
      "26/26 [==============================] - 0s 602us/step\n"
     ]
    }
   ],
   "source": [
    "y_keras = model.predict(x_test)"
   ]
  },
  {
   "cell_type": "raw",
   "id": "0635bc23-cb07-4215-aa2a-6a84d0515efa",
   "metadata": {
    "scrolled": true
   },
   "source": [
    "import matplotlib.animation as animation\n",
    "from IPython.display import HTML\n",
    "import matplotlib.pyplot as plt\n",
    "\n",
    "# Sort the test values by beta\n",
    "\n",
    "XY_actual = np.concatenate((x_test, y_test), axis=1)\n",
    "XY_pred = np.concatenate((x_test, y_qkeras), axis=1)\n",
    "\n",
    "#XY_actual = sort_array(XY_actual)\n",
    "#XY_pred = sort_array(XY_pred)\n",
    "\n",
    "XY_actual = XY_actual[XY_actual[:,0].argsort()]\n",
    "\n",
    "XY_pred = XY_pred[XY_pred[:,0].argsort()]\n",
    "\n",
    "#print(XY_actual)\n",
    "#print(XY_pred)\n",
    "\n",
    "## Needs ffmpeg. Install using \"conda install -c conda-forge ffmpeg\"\n",
    "start_idx = 0\n",
    "num_frames = 2400\n",
    "frame_interval_ms = 100\n",
    "\n",
    "# get x and y\n",
    "x = np.arange(1, N_PARAMS+1, 1)\n",
    "#y = y_test[start_idx:start_idx+num_frames,:]\n",
    "#y_pred = y_keras[start_idx:start_idx+num_frames,:]\n",
    "#beta = x_test[start_idx:start_idx+num_frames,:]\n",
    "y = XY_actual[start_idx:start_idx+num_frames,N_ANGLES:]\n",
    "beta = XY_actual[start_idx:start_idx+num_frames,:N_ANGLES]\n",
    "y_pred = XY_pred[start_idx:start_idx+num_frames,N_ANGLES:]\n",
    "\n",
    "print(y.shape)\n",
    "print(beta.shape)\n",
    "print(y_pred.shape)\n",
    "\n",
    "# create a figure and an axis object\n",
    "plt.ioff()\n",
    "fig, ax = plt.subplots()\n",
    "\n",
    "# set labels and plot limits\n",
    "plt.ylabel('Pulse parameter values')\n",
    "plt.xlabel('Pulse parameters (α[1:{}])'.format(N_PARAMS))\n",
    "#plt.ylim([min_pparam_value, max_pparam_value*5/4])\n",
    "plt.xticks(x, x)\n",
    "\n",
    "# initialize an empty line object\n",
    "line, = ax.plot([], [], marker='o', linestyle='--', color='r', label='actual')\n",
    "line_pr, = ax.plot([], [], marker='o', linestyle='--', color='g', label='predicted')\n",
    "ax.legend()\n",
    "\n",
    "# create a text object inside the axes\n",
    "title = ax.text(0.05, 0.9, \"\", transform=ax.transAxes)\n",
    "\n",
    "# define a function that updates the line object for each frame\n",
    "def animate(i):\n",
    "    title.set_text(f\"Beta: {beta[i]}\")\n",
    "    # update line data\n",
    "    line.set_data(x, y[i])\n",
    "    line_pr.set_data(x, y_pred[i])\n",
    "    return line,\n",
    "\n",
    "# create an animation object using FuncAnimation\n",
    "anim = animation.FuncAnimation(fig, animate,\n",
    "                              frames=num_frames,\n",
    "                              interval=frame_interval_ms,\n",
    "                              repeat=False)\n",
    "\n",
    "# show the animation\n",
    "%matplotlib inline\n",
    "HTML(anim.to_html5_video())"
   ]
  },
  {
   "cell_type": "code",
   "execution_count": 25,
   "id": "2fa087b1-d579-4583-816e-30789c340399",
   "metadata": {},
   "outputs": [],
   "source": [
    "import random\n",
    "hash_id = random.getrandbits(32)\n",
    "\n",
    "if FIDELITY_ENABLED:\n",
    "    xgate_fidelity_qkeras = get_xgate_fidelity(x_test,\n",
    "                                               recover_original_structure(y_qkeras),\n",
    "                                               config_template=CONFIG_TEMPLATE_JSON,\n",
    "                                               pulse_data_path='/tmp/xgate_{:x}.csv'.format(hash_id),\n",
    "                                               output_objf_path='/tmp/xgate_fidelity_{:x}.csv'.format(hash_id))\n",
    "else:\n",
    "    xgate_fidelity_qkeras = None"
   ]
  },
  {
   "cell_type": "code",
   "execution_count": 26,
   "id": "584d104a-c771-4bec-943b-9d06dcde15f2",
   "metadata": {},
   "outputs": [
    {
     "data": {
      "text/html": [
       "<div>\n",
       "<style scoped>\n",
       "    .dataframe tbody tr th:only-of-type {\n",
       "        vertical-align: middle;\n",
       "    }\n",
       "\n",
       "    .dataframe tbody tr th {\n",
       "        vertical-align: top;\n",
       "    }\n",
       "\n",
       "    .dataframe thead th {\n",
       "        text-align: right;\n",
       "    }\n",
       "</style>\n",
       "<table border=\"1\" class=\"dataframe\">\n",
       "  <thead>\n",
       "    <tr style=\"text-align: right;\">\n",
       "      <th></th>\n",
       "      <th></th>\n",
       "      <th>MSE</th>\n",
       "      <th>MSLE</th>\n",
       "      <th>MAPE</th>\n",
       "      <th>Fidelity</th>\n",
       "    </tr>\n",
       "  </thead>\n",
       "  <tbody>\n",
       "    <tr>\n",
       "      <th>0</th>\n",
       "      <td>QKeras</td>\n",
       "      <td>0.000012712740</td>\n",
       "      <td>None</td>\n",
       "      <td>None</td>\n",
       "      <td>0.999994642597</td>\n",
       "    </tr>\n",
       "  </tbody>\n",
       "</table>\n",
       "</div>"
      ],
      "text/plain": [
       "                     MSE  MSLE  MAPE       Fidelity\n",
       "0  QKeras 0.000012712740  None  None 0.999994642597"
      ]
     },
     "metadata": {},
     "output_type": "display_data"
    }
   ],
   "source": [
    "with pd.option_context('display.float_format', '{:0.12f}'.format):\n",
    "    data = pd.DataFrame([[\"QKeras\", qmse, qmsle, qmape, xgate_fidelity_qkeras]], columns=[\"\", \"MSE\", \"MSLE\", \"MAPE\", \"Fidelity\"])\n",
    "    display(data)"
   ]
  },
  {
   "cell_type": "markdown",
   "id": "124ed8ab-eedf-478b-aca1-fdb3b09af3e8",
   "metadata": {},
   "source": [
    "Save metrics values to file for future reference."
   ]
  },
  {
   "cell_type": "code",
   "execution_count": 27,
   "id": "1e68aecf-2332-4321-be6a-641f43e0a440",
   "metadata": {},
   "outputs": [],
   "source": [
    "metrics_filename = PREFIX + '/metrics.csv'\n",
    "\n",
    "# You can disable the writing if necessary.\n",
    "write_metrics_csv = True"
   ]
  },
  {
   "cell_type": "code",
   "execution_count": 28,
   "id": "9c7c9367-4f2f-4b85-ac8e-4b803fa9dbb4",
   "metadata": {},
   "outputs": [],
   "source": [
    "from utils.metrics import write_metrics\n",
    "if write_metrics_csv:\n",
    "    write_metrics(metrics_filename, 'QKeras', model_id_qkeras, qmse, qmsle, qmape, xgate_fidelity_qkeras)"
   ]
  },
  {
   "cell_type": "code",
   "execution_count": 29,
   "id": "6ce9a763-bbe6-4204-b791-ce5f5c1b412f",
   "metadata": {
    "scrolled": true
   },
   "outputs": [
    {
     "data": {
      "text/html": [
       "<div>\n",
       "<style scoped>\n",
       "    .dataframe tbody tr th:only-of-type {\n",
       "        vertical-align: middle;\n",
       "    }\n",
       "\n",
       "    .dataframe tbody tr th {\n",
       "        vertical-align: top;\n",
       "    }\n",
       "\n",
       "    .dataframe thead th {\n",
       "        text-align: right;\n",
       "    }\n",
       "</style>\n",
       "<table border=\"1\" class=\"dataframe\">\n",
       "  <thead>\n",
       "    <tr style=\"text-align: right;\">\n",
       "      <th></th>\n",
       "      <th>Date</th>\n",
       "      <th>Framework</th>\n",
       "      <th>ID</th>\n",
       "      <th>MSE</th>\n",
       "      <th>MSLE</th>\n",
       "      <th>MAPE</th>\n",
       "      <th>Fidelity</th>\n",
       "    </tr>\n",
       "  </thead>\n",
       "  <tbody>\n",
       "    <tr>\n",
       "      <th>0</th>\n",
       "      <td>19/04/2024 04:44:50</td>\n",
       "      <td>Keras</td>\n",
       "      <td>smallMLP_1x4x5</td>\n",
       "      <td>NaN</td>\n",
       "      <td>NaN</td>\n",
       "      <td>NaN</td>\n",
       "      <td>NaN</td>\n",
       "    </tr>\n",
       "    <tr>\n",
       "      <th>1</th>\n",
       "      <td>20/04/2024 15:13:01</td>\n",
       "      <td>Keras</td>\n",
       "      <td>smallMLP_1x4x5</td>\n",
       "      <td>0.000013080302</td>\n",
       "      <td>NaN</td>\n",
       "      <td>NaN</td>\n",
       "      <td>NaN</td>\n",
       "    </tr>\n",
       "    <tr>\n",
       "      <th>2</th>\n",
       "      <td>20/04/2024 15:24:33</td>\n",
       "      <td>Keras</td>\n",
       "      <td>smallMLP_1x4x5</td>\n",
       "      <td>0.000013080302</td>\n",
       "      <td>NaN</td>\n",
       "      <td>NaN</td>\n",
       "      <td>0.999994319741</td>\n",
       "    </tr>\n",
       "    <tr>\n",
       "      <th>3</th>\n",
       "      <td>20/04/2024 15:37:11</td>\n",
       "      <td>QKeras</td>\n",
       "      <td>smallMLP_1x4x5</td>\n",
       "      <td>0.000012712740</td>\n",
       "      <td>NaN</td>\n",
       "      <td>NaN</td>\n",
       "      <td>0.999994642597</td>\n",
       "    </tr>\n",
       "    <tr>\n",
       "      <th>4</th>\n",
       "      <td>20/04/2024 15:41:56</td>\n",
       "      <td>QKeras</td>\n",
       "      <td>smallMLP_1x4x5</td>\n",
       "      <td>0.000012712740</td>\n",
       "      <td>NaN</td>\n",
       "      <td>NaN</td>\n",
       "      <td>0.999994642597</td>\n",
       "    </tr>\n",
       "  </tbody>\n",
       "</table>\n",
       "</div>"
      ],
      "text/plain": [
       "                  Date Framework              ID            MSE  MSLE  MAPE  \\\n",
       "0  19/04/2024 04:44:50     Keras  smallMLP_1x4x5            NaN   NaN   NaN   \n",
       "1  20/04/2024 15:13:01     Keras  smallMLP_1x4x5 0.000013080302   NaN   NaN   \n",
       "2  20/04/2024 15:24:33     Keras  smallMLP_1x4x5 0.000013080302   NaN   NaN   \n",
       "3  20/04/2024 15:37:11    QKeras  smallMLP_1x4x5 0.000012712740   NaN   NaN   \n",
       "4  20/04/2024 15:41:56    QKeras  smallMLP_1x4x5 0.000012712740   NaN   NaN   \n",
       "\n",
       "        Fidelity  \n",
       "0            NaN  \n",
       "1            NaN  \n",
       "2 0.999994319741  \n",
       "3 0.999994642597  \n",
       "4 0.999994642597  "
      ]
     },
     "metadata": {},
     "output_type": "display_data"
    }
   ],
   "source": [
    "from utils.metrics import print_metrics\n",
    "print_metrics(metrics_filename)"
   ]
  }
 ],
 "metadata": {
  "kernelspec": {
   "display_name": "Python 3 (ipykernel)",
   "language": "python",
   "name": "python3"
  },
  "language_info": {
   "codemirror_mode": {
    "name": "ipython",
    "version": 3
   },
   "file_extension": ".py",
   "mimetype": "text/x-python",
   "name": "python",
   "nbconvert_exporter": "python",
   "pygments_lexer": "ipython3",
   "version": "3.10.0"
  }
 },
 "nbformat": 4,
 "nbformat_minor": 5
}
